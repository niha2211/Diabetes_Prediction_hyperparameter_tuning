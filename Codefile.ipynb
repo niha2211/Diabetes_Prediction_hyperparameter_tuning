{
  "nbformat": 4,
  "nbformat_minor": 0,
  "metadata": {
    "colab": {
      "name": "(final) (2) (1) (1).ipynb",
      "provenance": [],
      "collapsed_sections": []
    },
    "kernelspec": {
      "display_name": "Python 3",
      "name": "python3"
    }
  },
  "cells": [
    {
      "cell_type": "code",
      "metadata": {
        "id": "aYf9QRIRQr2k"
      },
      "source": [
        "import pandas as pd\n",
        "import matplotlib.pyplot as plt\n",
        "import numpy as np\n",
        "from sklearn import metrics"
      ],
      "execution_count": null,
      "outputs": []
    },
    {
      "cell_type": "code",
      "metadata": {
        "id": "ZXTV0i8_UYHV"
      },
      "source": [
        "import pandas as pd"
      ],
      "execution_count": null,
      "outputs": []
    },
    {
      "cell_type": "code",
      "metadata": {
        "id": "8SMqe7nbQ9oX"
      },
      "source": [
        "%matplotlib inline"
      ],
      "execution_count": null,
      "outputs": []
    },
    {
      "cell_type": "code",
      "metadata": {
        "id": "uVNh-_s7SD6h"
      },
      "source": [
        "data=pd.read_csv('diabetes.csv')"
      ],
      "execution_count": null,
      "outputs": []
    },
    {
      "cell_type": "code",
      "metadata": {
        "colab": {
          "base_uri": "https://localhost:8080/"
        },
        "id": "25Am904M7RnQ",
        "outputId": "cd0bb0f4-7ad8-4f78-9e59-1ffc27ac984a"
      },
      "source": [
        "data.info()"
      ],
      "execution_count": null,
      "outputs": [
        {
          "output_type": "stream",
          "name": "stdout",
          "text": [
            "<class 'pandas.core.frame.DataFrame'>\n",
            "RangeIndex: 768 entries, 0 to 767\n",
            "Data columns (total 9 columns):\n",
            " #   Column                    Non-Null Count  Dtype  \n",
            "---  ------                    --------------  -----  \n",
            " 0   Pregnancies               768 non-null    int64  \n",
            " 1   Glucose                   768 non-null    int64  \n",
            " 2   BloodPressure             768 non-null    int64  \n",
            " 3   SkinThickness             768 non-null    int64  \n",
            " 4   Insulin                   768 non-null    int64  \n",
            " 5   BMI                       768 non-null    float64\n",
            " 6   DiabetesPedigreeFunction  768 non-null    float64\n",
            " 7   Age                       768 non-null    int64  \n",
            " 8   Outcome                   768 non-null    int64  \n",
            "dtypes: float64(2), int64(7)\n",
            "memory usage: 54.1 KB\n"
          ]
        }
      ]
    },
    {
      "cell_type": "code",
      "metadata": {
        "id": "cLLRnIN6SG7K"
      },
      "source": [
        "y=data[['Outcome']]\n",
        "x=data[['Pregnancies', 'Glucose', 'BloodPressure', 'SkinThickness', 'Insulin', 'BMI', 'DiabetesPedigreeFunction', 'Age']]"
      ],
      "execution_count": null,
      "outputs": []
    },
    {
      "cell_type": "code",
      "metadata": {
        "colab": {
          "base_uri": "https://localhost:8080/"
        },
        "id": "Y5FIg341SN8-",
        "outputId": "180f97bd-ae1a-4558-efb2-6e11971550f6"
      },
      "source": [
        "x.shape"
      ],
      "execution_count": null,
      "outputs": [
        {
          "output_type": "execute_result",
          "data": {
            "text/plain": [
              "(768, 8)"
            ]
          },
          "metadata": {},
          "execution_count": 8
        }
      ]
    },
    {
      "cell_type": "code",
      "metadata": {
        "colab": {
          "base_uri": "https://localhost:8080/",
          "height": 206
        },
        "id": "uHn9WLlzSPEp",
        "outputId": "ef8da58f-528a-434a-ec99-ac5ac1786962"
      },
      "source": [
        "x.head(5)"
      ],
      "execution_count": null,
      "outputs": [
        {
          "output_type": "execute_result",
          "data": {
            "text/plain": [
              "   Pregnancies  Glucose  BloodPressure  SkinThickness  Insulin   BMI  \\\n",
              "0            6      148             72             35        0  33.6   \n",
              "1            1       85             66             29        0  26.6   \n",
              "2            8      183             64              0        0  23.3   \n",
              "3            1       89             66             23       94  28.1   \n",
              "4            0      137             40             35      168  43.1   \n",
              "\n",
              "   DiabetesPedigreeFunction  Age  \n",
              "0                     0.627   50  \n",
              "1                     0.351   31  \n",
              "2                     0.672   32  \n",
              "3                     0.167   21  \n",
              "4                     2.288   33  "
            ],
            "text/html": [
              "\n",
              "  <div id=\"df-778ca49a-d3ce-4337-b8c4-d9b750f634f6\">\n",
              "    <div class=\"colab-df-container\">\n",
              "      <div>\n",
              "<style scoped>\n",
              "    .dataframe tbody tr th:only-of-type {\n",
              "        vertical-align: middle;\n",
              "    }\n",
              "\n",
              "    .dataframe tbody tr th {\n",
              "        vertical-align: top;\n",
              "    }\n",
              "\n",
              "    .dataframe thead th {\n",
              "        text-align: right;\n",
              "    }\n",
              "</style>\n",
              "<table border=\"1\" class=\"dataframe\">\n",
              "  <thead>\n",
              "    <tr style=\"text-align: right;\">\n",
              "      <th></th>\n",
              "      <th>Pregnancies</th>\n",
              "      <th>Glucose</th>\n",
              "      <th>BloodPressure</th>\n",
              "      <th>SkinThickness</th>\n",
              "      <th>Insulin</th>\n",
              "      <th>BMI</th>\n",
              "      <th>DiabetesPedigreeFunction</th>\n",
              "      <th>Age</th>\n",
              "    </tr>\n",
              "  </thead>\n",
              "  <tbody>\n",
              "    <tr>\n",
              "      <th>0</th>\n",
              "      <td>6</td>\n",
              "      <td>148</td>\n",
              "      <td>72</td>\n",
              "      <td>35</td>\n",
              "      <td>0</td>\n",
              "      <td>33.6</td>\n",
              "      <td>0.627</td>\n",
              "      <td>50</td>\n",
              "    </tr>\n",
              "    <tr>\n",
              "      <th>1</th>\n",
              "      <td>1</td>\n",
              "      <td>85</td>\n",
              "      <td>66</td>\n",
              "      <td>29</td>\n",
              "      <td>0</td>\n",
              "      <td>26.6</td>\n",
              "      <td>0.351</td>\n",
              "      <td>31</td>\n",
              "    </tr>\n",
              "    <tr>\n",
              "      <th>2</th>\n",
              "      <td>8</td>\n",
              "      <td>183</td>\n",
              "      <td>64</td>\n",
              "      <td>0</td>\n",
              "      <td>0</td>\n",
              "      <td>23.3</td>\n",
              "      <td>0.672</td>\n",
              "      <td>32</td>\n",
              "    </tr>\n",
              "    <tr>\n",
              "      <th>3</th>\n",
              "      <td>1</td>\n",
              "      <td>89</td>\n",
              "      <td>66</td>\n",
              "      <td>23</td>\n",
              "      <td>94</td>\n",
              "      <td>28.1</td>\n",
              "      <td>0.167</td>\n",
              "      <td>21</td>\n",
              "    </tr>\n",
              "    <tr>\n",
              "      <th>4</th>\n",
              "      <td>0</td>\n",
              "      <td>137</td>\n",
              "      <td>40</td>\n",
              "      <td>35</td>\n",
              "      <td>168</td>\n",
              "      <td>43.1</td>\n",
              "      <td>2.288</td>\n",
              "      <td>33</td>\n",
              "    </tr>\n",
              "  </tbody>\n",
              "</table>\n",
              "</div>\n",
              "      <button class=\"colab-df-convert\" onclick=\"convertToInteractive('df-778ca49a-d3ce-4337-b8c4-d9b750f634f6')\"\n",
              "              title=\"Convert this dataframe to an interactive table.\"\n",
              "              style=\"display:none;\">\n",
              "        \n",
              "  <svg xmlns=\"http://www.w3.org/2000/svg\" height=\"24px\"viewBox=\"0 0 24 24\"\n",
              "       width=\"24px\">\n",
              "    <path d=\"M0 0h24v24H0V0z\" fill=\"none\"/>\n",
              "    <path d=\"M18.56 5.44l.94 2.06.94-2.06 2.06-.94-2.06-.94-.94-2.06-.94 2.06-2.06.94zm-11 1L8.5 8.5l.94-2.06 2.06-.94-2.06-.94L8.5 2.5l-.94 2.06-2.06.94zm10 10l.94 2.06.94-2.06 2.06-.94-2.06-.94-.94-2.06-.94 2.06-2.06.94z\"/><path d=\"M17.41 7.96l-1.37-1.37c-.4-.4-.92-.59-1.43-.59-.52 0-1.04.2-1.43.59L10.3 9.45l-7.72 7.72c-.78.78-.78 2.05 0 2.83L4 21.41c.39.39.9.59 1.41.59.51 0 1.02-.2 1.41-.59l7.78-7.78 2.81-2.81c.8-.78.8-2.07 0-2.86zM5.41 20L4 18.59l7.72-7.72 1.47 1.35L5.41 20z\"/>\n",
              "  </svg>\n",
              "      </button>\n",
              "      \n",
              "  <style>\n",
              "    .colab-df-container {\n",
              "      display:flex;\n",
              "      flex-wrap:wrap;\n",
              "      gap: 12px;\n",
              "    }\n",
              "\n",
              "    .colab-df-convert {\n",
              "      background-color: #E8F0FE;\n",
              "      border: none;\n",
              "      border-radius: 50%;\n",
              "      cursor: pointer;\n",
              "      display: none;\n",
              "      fill: #1967D2;\n",
              "      height: 32px;\n",
              "      padding: 0 0 0 0;\n",
              "      width: 32px;\n",
              "    }\n",
              "\n",
              "    .colab-df-convert:hover {\n",
              "      background-color: #E2EBFA;\n",
              "      box-shadow: 0px 1px 2px rgba(60, 64, 67, 0.3), 0px 1px 3px 1px rgba(60, 64, 67, 0.15);\n",
              "      fill: #174EA6;\n",
              "    }\n",
              "\n",
              "    [theme=dark] .colab-df-convert {\n",
              "      background-color: #3B4455;\n",
              "      fill: #D2E3FC;\n",
              "    }\n",
              "\n",
              "    [theme=dark] .colab-df-convert:hover {\n",
              "      background-color: #434B5C;\n",
              "      box-shadow: 0px 1px 3px 1px rgba(0, 0, 0, 0.15);\n",
              "      filter: drop-shadow(0px 1px 2px rgba(0, 0, 0, 0.3));\n",
              "      fill: #FFFFFF;\n",
              "    }\n",
              "  </style>\n",
              "\n",
              "      <script>\n",
              "        const buttonEl =\n",
              "          document.querySelector('#df-778ca49a-d3ce-4337-b8c4-d9b750f634f6 button.colab-df-convert');\n",
              "        buttonEl.style.display =\n",
              "          google.colab.kernel.accessAllowed ? 'block' : 'none';\n",
              "\n",
              "        async function convertToInteractive(key) {\n",
              "          const element = document.querySelector('#df-778ca49a-d3ce-4337-b8c4-d9b750f634f6');\n",
              "          const dataTable =\n",
              "            await google.colab.kernel.invokeFunction('convertToInteractive',\n",
              "                                                     [key], {});\n",
              "          if (!dataTable) return;\n",
              "\n",
              "          const docLinkHtml = 'Like what you see? Visit the ' +\n",
              "            '<a target=\"_blank\" href=https://colab.research.google.com/notebooks/data_table.ipynb>data table notebook</a>'\n",
              "            + ' to learn more about interactive tables.';\n",
              "          element.innerHTML = '';\n",
              "          dataTable['output_type'] = 'display_data';\n",
              "          await google.colab.output.renderOutput(dataTable, element);\n",
              "          const docLink = document.createElement('div');\n",
              "          docLink.innerHTML = docLinkHtml;\n",
              "          element.appendChild(docLink);\n",
              "        }\n",
              "      </script>\n",
              "    </div>\n",
              "  </div>\n",
              "  "
            ]
          },
          "metadata": {},
          "execution_count": 9
        }
      ]
    },
    {
      "cell_type": "code",
      "metadata": {
        "colab": {
          "base_uri": "https://localhost:8080/",
          "height": 987
        },
        "id": "rpzK7pTSSSJY",
        "outputId": "909fc196-9157-4956-ee92-518f5eaa9da2"
      },
      "source": [
        "import seaborn as sns\n",
        "import matplotlib.pyplot as plt\n",
        "corrmat=data.corr()\n",
        "top_corr_features=corrmat.index\n",
        "plt.figure(figsize=(15,15))\n",
        "g=sns.heatmap(data[top_corr_features].corr(),annot = True,cmap='RdYlGn')"
      ],
      "execution_count": null,
      "outputs": [
        {
          "output_type": "display_data",
          "data": {
            "text/plain": [
              "<Figure size 1080x1080 with 2 Axes>"
            ],
            "image/png": "[encoded data removed]"
          },
          "metadata": {
            "needs_background": "light"
          }
        }
      ]
    },
    {
      "cell_type": "code",
      "metadata": {
        "colab": {
          "base_uri": "https://localhost:8080/",
          "height": 331
        },
        "id": "zjmJmCILSZhz",
        "outputId": "11658b8d-583b-49cb-d657-9ccb39022ed9"
      },
      "source": [
        "data.corr()"
      ],
      "execution_count": null,
      "outputs": [
        {
          "output_type": "execute_result",
          "data": {
            "text/plain": [
              "                          Pregnancies   Glucose  BloodPressure  SkinThickness  \\\n",
              "Pregnancies                  1.000000  0.129459       0.141282      -0.081672   \n",
              "Glucose                      0.129459  1.000000       0.152590       0.057328   \n",
              "BloodPressure                0.141282  0.152590       1.000000       0.207371   \n",
              "SkinThickness               -0.081672  0.057328       0.207371       1.000000   \n",
              "Insulin                     -0.073535  0.331357       0.088933       0.436783   \n",
              "BMI                          0.017683  0.221071       0.281805       0.392573   \n",
              "DiabetesPedigreeFunction    -0.033523  0.137337       0.041265       0.183928   \n",
              "Age                          0.544341  0.263514       0.239528      -0.113970   \n",
              "Outcome                      0.221898  0.466581       0.065068       0.074752   \n",
              "\n",
              "                           Insulin       BMI  DiabetesPedigreeFunction  \\\n",
              "Pregnancies              -0.073535  0.017683                 -0.033523   \n",
              "Glucose                   0.331357  0.221071                  0.137337   \n",
              "BloodPressure             0.088933  0.281805                  0.041265   \n",
              "SkinThickness             0.436783  0.392573                  0.183928   \n",
              "Insulin                   1.000000  0.197859                  0.185071   \n",
              "BMI                       0.197859  1.000000                  0.140647   \n",
              "DiabetesPedigreeFunction  0.185071  0.140647                  1.000000   \n",
              "Age                      -0.042163  0.036242                  0.033561   \n",
              "Outcome                   0.130548  0.292695                  0.173844   \n",
              "\n",
              "                               Age   Outcome  \n",
              "Pregnancies               0.544341  0.221898  \n",
              "Glucose                   0.263514  0.466581  \n",
              "BloodPressure             0.239528  0.065068  \n",
              "SkinThickness            -0.113970  0.074752  \n",
              "Insulin                  -0.042163  0.130548  \n",
              "BMI                       0.036242  0.292695  \n",
              "DiabetesPedigreeFunction  0.033561  0.173844  \n",
              "Age                       1.000000  0.238356  \n",
              "Outcome                   0.238356  1.000000  "
            ],
            "text/html": [
              "\n",
              "  <div id=\"df-7efe14a5-67c4-49b1-95ea-ded9322a7e7f\">\n",
              "    <div class=\"colab-df-container\">\n",
              "      <div>\n",
              "<style scoped>\n",
              "    .dataframe tbody tr th:only-of-type {\n",
              "        vertical-align: middle;\n",
              "    }\n",
              "\n",
              "    .dataframe tbody tr th {\n",
              "        vertical-align: top;\n",
              "    }\n",
              "\n",
              "    .dataframe thead th {\n",
              "        text-align: right;\n",
              "    }\n",
              "</style>\n",
              "<table border=\"1\" class=\"dataframe\">\n",
              "  <thead>\n",
              "    <tr style=\"text-align: right;\">\n",
              "      <th></th>\n",
              "      <th>Pregnancies</th>\n",
              "      <th>Glucose</th>\n",
              "      <th>BloodPressure</th>\n",
              "      <th>SkinThickness</th>\n",
              "      <th>Insulin</th>\n",
              "      <th>BMI</th>\n",
              "      <th>DiabetesPedigreeFunction</th>\n",
              "      <th>Age</th>\n",
              "      <th>Outcome</th>\n",
              "    </tr>\n",
              "  </thead>\n",
              "  <tbody>\n",
              "    <tr>\n",
              "      <th>Pregnancies</th>\n",
              "      <td>1.000000</td>\n",
              "      <td>0.129459</td>\n",
              "      <td>0.141282</td>\n",
              "      <td>-0.081672</td>\n",
              "      <td>-0.073535</td>\n",
              "      <td>0.017683</td>\n",
              "      <td>-0.033523</td>\n",
              "      <td>0.544341</td>\n",
              "      <td>0.221898</td>\n",
              "    </tr>\n",
              "    <tr>\n",
              "      <th>Glucose</th>\n",
              "      <td>0.129459</td>\n",
              "      <td>1.000000</td>\n",
              "      <td>0.152590</td>\n",
              "      <td>0.057328</td>\n",
              "      <td>0.331357</td>\n",
              "      <td>0.221071</td>\n",
              "      <td>0.137337</td>\n",
              "      <td>0.263514</td>\n",
              "      <td>0.466581</td>\n",
              "    </tr>\n",
              "    <tr>\n",
              "      <th>BloodPressure</th>\n",
              "      <td>0.141282</td>\n",
              "      <td>0.152590</td>\n",
              "      <td>1.000000</td>\n",
              "      <td>0.207371</td>\n",
              "      <td>0.088933</td>\n",
              "      <td>0.281805</td>\n",
              "      <td>0.041265</td>\n",
              "      <td>0.239528</td>\n",
              "      <td>0.065068</td>\n",
              "    </tr>\n",
              "    <tr>\n",
              "      <th>SkinThickness</th>\n",
              "      <td>-0.081672</td>\n",
              "      <td>0.057328</td>\n",
              "      <td>0.207371</td>\n",
              "      <td>1.000000</td>\n",
              "      <td>0.436783</td>\n",
              "      <td>0.392573</td>\n",
              "      <td>0.183928</td>\n",
              "      <td>-0.113970</td>\n",
              "      <td>0.074752</td>\n",
              "    </tr>\n",
              "    <tr>\n",
              "      <th>Insulin</th>\n",
              "      <td>-0.073535</td>\n",
              "      <td>0.331357</td>\n",
              "      <td>0.088933</td>\n",
              "      <td>0.436783</td>\n",
              "      <td>1.000000</td>\n",
              "      <td>0.197859</td>\n",
              "      <td>0.185071</td>\n",
              "      <td>-0.042163</td>\n",
              "      <td>0.130548</td>\n",
              "    </tr>\n",
              "    <tr>\n",
              "      <th>BMI</th>\n",
              "      <td>0.017683</td>\n",
              "      <td>0.221071</td>\n",
              "      <td>0.281805</td>\n",
              "      <td>0.392573</td>\n",
              "      <td>0.197859</td>\n",
              "      <td>1.000000</td>\n",
              "      <td>0.140647</td>\n",
              "      <td>0.036242</td>\n",
              "      <td>0.292695</td>\n",
              "    </tr>\n",
              "    <tr>\n",
              "      <th>DiabetesPedigreeFunction</th>\n",
              "      <td>-0.033523</td>\n",
              "      <td>0.137337</td>\n",
              "      <td>0.041265</td>\n",
              "      <td>0.183928</td>\n",
              "      <td>0.185071</td>\n",
              "      <td>0.140647</td>\n",
              "      <td>1.000000</td>\n",
              "      <td>0.033561</td>\n",
              "      <td>0.173844</td>\n",
              "    </tr>\n",
              "    <tr>\n",
              "      <th>Age</th>\n",
              "      <td>0.544341</td>\n",
              "      <td>0.263514</td>\n",
              "      <td>0.239528</td>\n",
              "      <td>-0.113970</td>\n",
              "      <td>-0.042163</td>\n",
              "      <td>0.036242</td>\n",
              "      <td>0.033561</td>\n",
              "      <td>1.000000</td>\n",
              "      <td>0.238356</td>\n",
              "    </tr>\n",
              "    <tr>\n",
              "      <th>Outcome</th>\n",
              "      <td>0.221898</td>\n",
              "      <td>0.466581</td>\n",
              "      <td>0.065068</td>\n",
              "      <td>0.074752</td>\n",
              "      <td>0.130548</td>\n",
              "      <td>0.292695</td>\n",
              "      <td>0.173844</td>\n",
              "      <td>0.238356</td>\n",
              "      <td>1.000000</td>\n",
              "    </tr>\n",
              "  </tbody>\n",
              "</table>\n",
              "</div>\n",
              "      <button class=\"colab-df-convert\" onclick=\"convertToInteractive('df-7efe14a5-67c4-49b1-95ea-ded9322a7e7f')\"\n",
              "              title=\"Convert this dataframe to an interactive table.\"\n",
              "              style=\"display:none;\">\n",
              "        \n",
              "  <svg xmlns=\"http://www.w3.org/2000/svg\" height=\"24px\"viewBox=\"0 0 24 24\"\n",
              "       width=\"24px\">\n",
              "    <path d=\"M0 0h24v24H0V0z\" fill=\"none\"/>\n",
              "    <path d=\"M18.56 5.44l.94 2.06.94-2.06 2.06-.94-2.06-.94-.94-2.06-.94 2.06-2.06.94zm-11 1L8.5 8.5l.94-2.06 2.06-.94-2.06-.94L8.5 2.5l-.94 2.06-2.06.94zm10 10l.94 2.06.94-2.06 2.06-.94-2.06-.94-.94-2.06-.94 2.06-2.06.94z\"/><path d=\"M17.41 7.96l-1.37-1.37c-.4-.4-.92-.59-1.43-.59-.52 0-1.04.2-1.43.59L10.3 9.45l-7.72 7.72c-.78.78-.78 2.05 0 2.83L4 21.41c.39.39.9.59 1.41.59.51 0 1.02-.2 1.41-.59l7.78-7.78 2.81-2.81c.8-.78.8-2.07 0-2.86zM5.41 20L4 18.59l7.72-7.72 1.47 1.35L5.41 20z\"/>\n",
              "  </svg>\n",
              "      </button>\n",
              "      \n",
              "  <style>\n",
              "    .colab-df-container {\n",
              "      display:flex;\n",
              "      flex-wrap:wrap;\n",
              "      gap: 12px;\n",
              "    }\n",
              "\n",
              "    .colab-df-convert {\n",
              "      background-color: #E8F0FE;\n",
              "      border: none;\n",
              "      border-radius: 50%;\n",
              "      cursor: pointer;\n",
              "      display: none;\n",
              "      fill: #1967D2;\n",
              "      height: 32px;\n",
              "      padding: 0 0 0 0;\n",
              "      width: 32px;\n",
              "    }\n",
              "\n",
              "    .colab-df-convert:hover {\n",
              "      background-color: #E2EBFA;\n",
              "      box-shadow: 0px 1px 2px rgba(60, 64, 67, 0.3), 0px 1px 3px 1px rgba(60, 64, 67, 0.15);\n",
              "      fill: #174EA6;\n",
              "    }\n",
              "\n",
              "    [theme=dark] .colab-df-convert {\n",
              "      background-color: #3B4455;\n",
              "      fill: #D2E3FC;\n",
              "    }\n",
              "\n",
              "    [theme=dark] .colab-df-convert:hover {\n",
              "      background-color: #434B5C;\n",
              "      box-shadow: 0px 1px 3px 1px rgba(0, 0, 0, 0.15);\n",
              "      filter: drop-shadow(0px 1px 2px rgba(0, 0, 0, 0.3));\n",
              "      fill: #FFFFFF;\n",
              "    }\n",
              "  </style>\n",
              "\n",
              "      <script>\n",
              "        const buttonEl =\n",
              "          document.querySelector('#df-7efe14a5-67c4-49b1-95ea-ded9322a7e7f button.colab-df-convert');\n",
              "        buttonEl.style.display =\n",
              "          google.colab.kernel.accessAllowed ? 'block' : 'none';\n",
              "\n",
              "        async function convertToInteractive(key) {\n",
              "          const element = document.querySelector('#df-7efe14a5-67c4-49b1-95ea-ded9322a7e7f');\n",
              "          const dataTable =\n",
              "            await google.colab.kernel.invokeFunction('convertToInteractive',\n",
              "                                                     [key], {});\n",
              "          if (!dataTable) return;\n",
              "\n",
              "          const docLinkHtml = 'Like what you see? Visit the ' +\n",
              "            '<a target=\"_blank\" href=https://colab.research.google.com/notebooks/data_table.ipynb>data table notebook</a>'\n",
              "            + ' to learn more about interactive tables.';\n",
              "          element.innerHTML = '';\n",
              "          dataTable['output_type'] = 'display_data';\n",
              "          await google.colab.output.renderOutput(dataTable, element);\n",
              "          const docLink = document.createElement('div');\n",
              "          docLink.innerHTML = docLinkHtml;\n",
              "          element.appendChild(docLink);\n",
              "        }\n",
              "      </script>\n",
              "    </div>\n",
              "  </div>\n",
              "  "
            ]
          },
          "metadata": {},
          "execution_count": 11
        }
      ]
    },
    {
      "cell_type": "code",
      "metadata": {
        "id": "SR67Y8r5Sfzx"
      },
      "source": [
        "def fillskinthickness(row):\n",
        "    if not((row['SkinThickness'])==0):\n",
        "        return row['SkinThickness']\n",
        "    if row['BMI']>=0 or row['BMI']<=100:        \n",
        "        if row['BMI']>=30 or row['BMI']<40:\n",
        "            return 35\n",
        "        elif row['BMI']>=20 or row['BMI']<30:\n",
        "            return 25\n",
        "        elif row['BMI']>=40 or row['BMI']<50:\n",
        "            return 45\n",
        "        elif row['BMI']>=50 or row['BMI']<60:\n",
        "            return 55"
      ],
      "execution_count": null,
      "outputs": []
    },
    {
      "cell_type": "code",
      "metadata": {
        "colab": {
          "base_uri": "https://localhost:8080/"
        },
        "id": "hAnyTq9gSk3i",
        "outputId": "9eebdf54-ad10-4ac7-c218-df6c586a4e79"
      },
      "source": [
        "x['SkinThickness']=x.apply(fillskinthickness, axis=1)"
      ],
      "execution_count": null,
      "outputs": [
        {
          "output_type": "stream",
          "name": "stderr",
          "text": [
            "/usr/local/lib/python3.7/dist-packages/ipykernel_launcher.py:1: SettingWithCopyWarning: \n",
            "A value is trying to be set on a copy of a slice from a DataFrame.\n",
            "Try using .loc[row_indexer,col_indexer] = value instead\n",
            "\n",
            "See the caveats in the documentation: https://pandas.pydata.org/pandas-docs/stable/user_guide/indexing.html#returning-a-view-versus-a-copy\n",
            "  \"\"\"Entry point for launching an IPython kernel.\n"
          ]
        }
      ]
    },
    {
      "cell_type": "code",
      "metadata": {
        "colab": {
          "base_uri": "https://localhost:8080/"
        },
        "id": "MxQEJKvHSn7l",
        "outputId": "5d812ce6-2d81-4e26-a801-51d803a3334b"
      },
      "source": [
        "x['SkinThickness']"
      ],
      "execution_count": null,
      "outputs": [
        {
          "output_type": "execute_result",
          "data": {
            "text/plain": [
              "0      35.0\n",
              "1      29.0\n",
              "2      35.0\n",
              "3      23.0\n",
              "4      35.0\n",
              "       ... \n",
              "763    48.0\n",
              "764    27.0\n",
              "765    23.0\n",
              "766    35.0\n",
              "767    31.0\n",
              "Name: SkinThickness, Length: 768, dtype: float64"
            ]
          },
          "metadata": {},
          "execution_count": 14
        }
      ]
    },
    {
      "cell_type": "code",
      "metadata": {
        "id": "CATE9IdsSukU"
      },
      "source": [
        "from sklearn.impute import SimpleImputer\n",
        "imputer = SimpleImputer(missing_values=np.nan, strategy='mean')\n",
        "x=imputer.fit_transform(x)\n",
        "y = imputer.fit_transform(y)"
      ],
      "execution_count": null,
      "outputs": []
    },
    {
      "cell_type": "code",
      "metadata": {
        "id": "4iWzGxJLSy0O"
      },
      "source": [
        "from sklearn.model_selection import train_test_split\n",
        "x_train, x_test, y_train, y_test=train_test_split(x, y,test_size=0.1,random_state=0)"
      ],
      "execution_count": null,
      "outputs": []
    },
    {
      "cell_type": "code",
      "metadata": {
        "id": "X9mYBxbTVO_z"
      },
      "source": [
        "from sklearn.preprocessing import StandardScaler\n",
        "sc_x=StandardScaler()\n",
        "x_train=sc_x.fit_transform(x_train)\n",
        "x_test=sc_x.fit_transform(x_test)"
      ],
      "execution_count": null,
      "outputs": []
    },
    {
      "cell_type": "code",
      "metadata": {
        "id": "1rgj9TY1Vfg4"
      },
      "source": [
        "from sklearn.decomposition import PCA\n",
        "pca = PCA(n_components=3)\n",
        "principalComponent = pca.fit_transform(x_train)\n",
        "principalComponent = pca.fit_transform(x_test)"
      ],
      "execution_count": null,
      "outputs": []
    },
    {
      "cell_type": "code",
      "metadata": {
        "id": "Rm5honCOPSbZ"
      },
      "source": [
        "from sklearn.ensemble import RandomForestClassifier\n",
        "\n"
      ],
      "execution_count": null,
      "outputs": []
    },
    {
      "cell_type": "code",
      "metadata": {
        "id": "MLaVzvjgl3MD"
      },
      "source": [
        "classifier = RandomForestClassifier(n_estimators=10)"
      ],
      "execution_count": null,
      "outputs": []
    },
    {
      "cell_type": "code",
      "metadata": {
        "colab": {
          "base_uri": "https://localhost:8080/"
        },
        "id": "mqO72VJPeaeO",
        "outputId": "525223f3-6377-44a2-e9f3-1ec93337ed41"
      },
      "source": [
        "classifier"
      ],
      "execution_count": null,
      "outputs": [
        {
          "output_type": "execute_result",
          "data": {
            "text/plain": [
              "RandomForestClassifier(n_estimators=10)"
            ]
          },
          "metadata": {},
          "execution_count": 21
        }
      ]
    },
    {
      "cell_type": "code",
      "metadata": {
        "colab": {
          "base_uri": "https://localhost:8080/"
        },
        "id": "o21wPQMDl33N",
        "outputId": "d13e8a4a-16bd-4cad-a5b7-a99f46451eac"
      },
      "source": [
        "classifier.fit(x_train, y_train)"
      ],
      "execution_count": null,
      "outputs": [
        {
          "output_type": "stream",
          "name": "stderr",
          "text": [
            "/usr/local/lib/python3.7/dist-packages/ipykernel_launcher.py:1: DataConversionWarning: A column-vector y was passed when a 1d array was expected. Please change the shape of y to (n_samples,), for example using ravel().\n",
            "  \"\"\"Entry point for launching an IPython kernel.\n"
          ]
        },
        {
          "output_type": "execute_result",
          "data": {
            "text/plain": [
              "RandomForestClassifier(n_estimators=10)"
            ]
          },
          "metadata": {},
          "execution_count": 22
        }
      ]
    },
    {
      "cell_type": "code",
      "metadata": {
        "colab": {
          "base_uri": "https://localhost:8080/"
        },
        "id": "KMePxAxmc3he",
        "outputId": "e37572c7-0d6e-4e6a-9272-02cda0ff552d"
      },
      "source": [
        "print(\"Train Accuracy:\",classifier.score(x_train, y_train))\n"
      ],
      "execution_count": null,
      "outputs": [
        {
          "output_type": "stream",
          "name": "stdout",
          "text": [
            "Train Accuracy: 0.9811866859623734\n"
          ]
        }
      ]
    },
    {
      "cell_type": "code",
      "metadata": {
        "colab": {
          "base_uri": "https://localhost:8080/"
        },
        "id": "oVYG1pM3PSd_",
        "outputId": "c19f31ce-7ba4-4acc-cfb1-f9a8bd6e40e7"
      },
      "source": [
        "preds = classifier.predict(x_test)\n",
        "from sklearn.metrics import accuracy_score, r2_score\n",
        "print(\"Accuracy = {0:.3f}\".format(accuracy_score(y_test, preds)))"
      ],
      "execution_count": null,
      "outputs": [
        {
          "output_type": "stream",
          "name": "stdout",
          "text": [
            "Accuracy = 0.792\n"
          ]
        }
      ]
    },
    {
      "cell_type": "code",
      "metadata": {
        "colab": {
          "base_uri": "https://localhost:8080/"
        },
        "id": "Lsu_n-tmPSgn",
        "outputId": "e153fb44-e625-42ca-b056-bc825b0e5d2e"
      },
      "source": [
        "print(\"R2 Score = {0:.3f}\".format(r2_score(y_test, preds)))\n"
      ],
      "execution_count": null,
      "outputs": [
        {
          "output_type": "stream",
          "name": "stdout",
          "text": [
            "R2 Score = 0.071\n"
          ]
        }
      ]
    },
    {
      "cell_type": "code",
      "metadata": {
        "id": "QFsbFNTXlgDo"
      },
      "source": [
        "from sklearn.metrics import precision_score, recall_score, f1_score, confusion_matrix, roc_curve, roc_auc_score\n",
        "import matplotlib.pyplot as plt"
      ],
      "execution_count": null,
      "outputs": []
    },
    {
      "cell_type": "code",
      "metadata": {
        "id": "-ncLt8LjlgGA"
      },
      "source": [
        "Y_pred = classifier.predict(x_test)\n",
        "Y_pred = (Y_pred >0.5)"
      ],
      "execution_count": null,
      "outputs": []
    },
    {
      "cell_type": "code",
      "metadata": {
        "colab": {
          "base_uri": "https://localhost:8080/"
        },
        "id": "dQ-RMBI4mttG",
        "outputId": "bcc01fc1-8d1a-4cb0-f831-f71ebd183747"
      },
      "source": [
        "confusion = confusion_matrix(y_test,Y_pred)        ###Model evaluation\n",
        "precision = precision_score(y_test,Y_pred)\n",
        "recall = recall_score(y_test,Y_pred)\n",
        "F1 = f1_score(y_test,Y_pred)\n",
        "specificity = (confusion[0][0]/(confusion[0][0]+confusion[0][1]))\n",
        "print('confusion matrix {}'.format(confusion))\n",
        "print('precision is {}'.format(precision))\n",
        "print('recall is  {}'.format(recall))\n",
        "print('F1 score {}'.format(F1))\n",
        "print('specificity is {}'.format(specificity))"
      ],
      "execution_count": null,
      "outputs": [
        {
          "name": "stdout",
          "output_type": "stream",
          "text": [
            "confusion matrix [[45  6]\n",
            " [ 8 18]]\n",
            "precision is 0.75\n",
            "recall is  0.6923076923076923\n",
            "F1 score 0.7199999999999999\n",
            "specificity is 0.8823529411764706\n"
          ]
        }
      ]
    },
    {
      "cell_type": "code",
      "metadata": {
        "colab": {
          "base_uri": "https://localhost:8080/",
          "height": 298
        },
        "id": "agV416jhmtvr",
        "outputId": "bdf5bd90-c639-46b3-aafc-6e7d91c0d971"
      },
      "source": [
        "Y_pred_proba = classifier.predict(x_test)\n",
        "fpr, tpr, _ = roc_curve(y_test, Y_pred_proba)\n",
        "auc = roc_auc_score(y_test, Y_pred_proba)\n",
        "plt.plot(fpr,tpr,label=\"data 1, auc=\"+str(auc))\n",
        "plt.legend(loc=4)\n",
        "fig1 = plt.gcf()\n",
        "plt.title('Random Forest Classifier', fontsize = 12)\n",
        "plt.show()\n",
        "plt.draw()\n",
        "fig1.savefig('random forest.png', dpi=100)\n"
      ],
      "execution_count": null,
      "outputs": [
        {
          "data": {
            "image/png": "[encoded data removed]",
            "text/plain": [
              "<Figure size 432x288 with 1 Axes>"
            ]
          },
          "metadata": {},
          "output_type": "display_data"
        },
        {
          "data": {
            "text/plain": [
              "<Figure size 432x288 with 0 Axes>"
            ]
          },
          "metadata": {},
          "output_type": "display_data"
        }
      ]
    },
    {
      "cell_type": "code",
      "metadata": {
        "colab": {
          "base_uri": "https://localhost:8080/"
        },
        "id": "csX3JMhnlgIn",
        "outputId": "e290fc22-56cc-484d-9e20-65aa65426895"
      },
      "source": [
        "from sklearn.model_selection import cross_val_score\n",
        "score = cross_val_score(classifier, x_train, y_train.ravel(), cv=10)\n",
        "print(score)"
      ],
      "execution_count": null,
      "outputs": [
        {
          "name": "stdout",
          "output_type": "stream",
          "text": [
            "[0.75714286 0.66666667 0.7826087  0.75362319 0.72463768 0.84057971\n",
            " 0.75362319 0.66666667 0.66666667 0.75362319]\n"
          ]
        }
      ]
    },
    {
      "cell_type": "code",
      "metadata": {
        "id": "utJ9GDLKlgLX"
      },
      "source": [
        "#bagging"
      ],
      "execution_count": null,
      "outputs": []
    },
    {
      "cell_type": "code",
      "metadata": {
        "colab": {
          "base_uri": "https://localhost:8080/"
        },
        "id": "Gpuis9O0j0XM",
        "outputId": "97bac33e-332d-4562-fbb6-87043dbd9ccd"
      },
      "source": [
        "from sklearn.ensemble import BaggingClassifier, AdaBoostClassifier\n",
        "classifier = BaggingClassifier(n_estimators = 10)\n",
        "bg = BaggingClassifier(RandomForestClassifier(),max_samples=0.5, max_features=1.0, n_estimators=20)\n",
        "bg.fit(x_train, y_train)"
      ],
      "execution_count": null,
      "outputs": [
        {
          "name": "stderr",
          "output_type": "stream",
          "text": [
            "/usr/local/lib/python3.7/dist-packages/sklearn/ensemble/_bagging.py:645: DataConversionWarning: A column-vector y was passed when a 1d array was expected. Please change the shape of y to (n_samples, ), for example using ravel().\n",
            "  y = column_or_1d(y, warn=True)\n"
          ]
        },
        {
          "data": {
            "text/plain": [
              "BaggingClassifier(base_estimator=RandomForestClassifier(bootstrap=True,\n",
              "                                                        ccp_alpha=0.0,\n",
              "                                                        class_weight=None,\n",
              "                                                        criterion='gini',\n",
              "                                                        max_depth=None,\n",
              "                                                        max_features='auto',\n",
              "                                                        max_leaf_nodes=None,\n",
              "                                                        max_samples=None,\n",
              "                                                        min_impurity_decrease=0.0,\n",
              "                                                        min_impurity_split=None,\n",
              "                                                        min_samples_leaf=1,\n",
              "                                                        min_samples_split=2,\n",
              "                                                        min_weight_fraction_leaf=0.0,\n",
              "                                                        n_estimators=100,\n",
              "                                                        n_jobs=None,\n",
              "                                                        oob_score=False,\n",
              "                                                        random_state=None,\n",
              "                                                        verbose=0,\n",
              "                                                        warm_start=False),\n",
              "                  bootstrap=True, bootstrap_features=False, max_features=1.0,\n",
              "                  max_samples=0.5, n_estimators=20, n_jobs=None,\n",
              "                  oob_score=False, random_state=None, verbose=0,\n",
              "                  warm_start=False)"
            ]
          },
          "execution_count": 35,
          "metadata": {},
          "output_type": "execute_result"
        }
      ]
    },
    {
      "cell_type": "code",
      "metadata": {
        "colab": {
          "base_uri": "https://localhost:8080/"
        },
        "id": "sJ2TG_0skFG-",
        "outputId": "f77c3245-c9c2-4ae3-e3bc-719c3c6da4b3"
      },
      "source": [
        "bg.score(x_train, y_train)\n"
      ],
      "execution_count": null,
      "outputs": [
        {
          "data": {
            "text/plain": [
              "0.8986975397973951"
            ]
          },
          "execution_count": 36,
          "metadata": {},
          "output_type": "execute_result"
        }
      ]
    },
    {
      "cell_type": "code",
      "metadata": {
        "colab": {
          "base_uri": "https://localhost:8080/"
        },
        "id": "t2nH0kEWe5LP",
        "outputId": "0174091f-d78a-4c05-c56f-67b274c945d7"
      },
      "source": [
        "bg.score(x_test, y_test)"
      ],
      "execution_count": null,
      "outputs": [
        {
          "data": {
            "text/plain": [
              "0.7922077922077922"
            ]
          },
          "execution_count": 37,
          "metadata": {},
          "output_type": "execute_result"
        }
      ]
    },
    {
      "cell_type": "code",
      "metadata": {
        "colab": {
          "base_uri": "https://localhost:8080/"
        },
        "id": "elXp93K8kAvg",
        "outputId": "5bc05520-5f8a-456b-a8c7-8d2aa5d88dfe"
      },
      "source": [
        "Y_pred = bg.predict(x_test)\n",
        "Y_pred = (Y_pred >0.5)\n",
        "confusion = confusion_matrix(y_test,Y_pred)        ###Model evaluation\n",
        "precision = precision_score(y_test,Y_pred)\n",
        "recall = recall_score(y_test,Y_pred)\n",
        "F1 = f1_score(y_test,Y_pred)\n",
        "specificity = (confusion[0][0]/(confusion[0][0]+confusion[0][1]))\n",
        "print('confusion matrix {}'.format(confusion))\n",
        "print('precision is {}'.format(precision))\n",
        "print('recall is  {}'.format(recall))\n",
        "print('F1 score {}'.format(F1))\n",
        "print('specificity is {}'.format(specificity))"
      ],
      "execution_count": null,
      "outputs": [
        {
          "name": "stdout",
          "output_type": "stream",
          "text": [
            "confusion matrix [[43  8]\n",
            " [ 8 18]]\n",
            "precision is 0.6923076923076923\n",
            "recall is  0.6923076923076923\n",
            "F1 score 0.6923076923076923\n",
            "specificity is 0.8431372549019608\n"
          ]
        }
      ]
    },
    {
      "cell_type": "code",
      "metadata": {
        "colab": {
          "base_uri": "https://localhost:8080/",
          "height": 298
        },
        "id": "WMBcK1TPkAy_",
        "outputId": "7d9a537f-c541-41d0-cfde-7c250ebe18b1"
      },
      "source": [
        "Y_pred_proba = bg.predict(x_test)\n",
        "fpr, tpr, _ = roc_curve(y_test, Y_pred_proba)\n",
        "auc = roc_auc_score(y_test, Y_pred_proba)\n",
        "plt.plot(fpr,tpr,label=\"data 1, auc=\"+str(auc))\n",
        "plt.legend(loc=4)\n",
        "fig1 = plt.gcf()\n",
        "plt.title('Bagging Classifier', fontsize = 12)\n",
        "plt.show()\n",
        "plt.draw()\n",
        "fig1.savefig('bagging classifier.png', dpi=100)"
      ],
      "execution_count": null,
      "outputs": [
        {
          "data": {
            "image/png": "[encoded data removed]",
            "text/plain": [
              "<Figure size 432x288 with 1 Axes>"
            ]
          },
          "metadata": {},
          "output_type": "display_data"
        },
        {
          "data": {
            "text/plain": [
              "<Figure size 432x288 with 0 Axes>"
            ]
          },
          "metadata": {},
          "output_type": "display_data"
        }
      ]
    },
    {
      "cell_type": "code",
      "metadata": {
        "colab": {
          "base_uri": "https://localhost:8080/"
        },
        "id": "E4UTyVqIkA16",
        "outputId": "c505166f-ef30-4146-f0fe-6850871403b5"
      },
      "source": [
        "from sklearn.model_selection import cross_val_score\n",
        "score = cross_val_score(bg, x_train, y_train.ravel(), cv=10)\n",
        "print(score)"
      ],
      "execution_count": null,
      "outputs": [
        {
          "name": "stdout",
          "output_type": "stream",
          "text": [
            "[0.8        0.71014493 0.76811594 0.76811594 0.79710145 0.7826087\n",
            " 0.8115942  0.68115942 0.71014493 0.7826087 ]\n"
          ]
        }
      ]
    },
    {
      "cell_type": "code",
      "metadata": {
        "id": "uLHPxsOmSuen"
      },
      "source": [
        "#boosting"
      ],
      "execution_count": null,
      "outputs": []
    },
    {
      "cell_type": "code",
      "metadata": {
        "id": "0GCzD5cuWHkX"
      },
      "source": [
        "from sklearn.ensemble import AdaBoostClassifier"
      ],
      "execution_count": null,
      "outputs": []
    },
    {
      "cell_type": "code",
      "metadata": {
        "colab": {
          "base_uri": "https://localhost:8080/"
        },
        "id": "6JHpLoUtSuiL",
        "outputId": "afae0862-e767-4e8f-ed9a-3f57845cdcaa"
      },
      "source": [
        "ad = AdaBoostClassifier(n_estimators= 12)\n",
        "ad.fit(x_train, y_train)\n",
        "ad.score(x_train, y_train)\n"
      ],
      "execution_count": null,
      "outputs": [
        {
          "name": "stderr",
          "output_type": "stream",
          "text": [
            "/usr/local/lib/python3.7/dist-packages/sklearn/utils/validation.py:760: DataConversionWarning: A column-vector y was passed when a 1d array was expected. Please change the shape of y to (n_samples, ), for example using ravel().\n",
            "  y = column_or_1d(y, warn=True)\n"
          ]
        },
        {
          "data": {
            "text/plain": [
              "0.7973950795947902"
            ]
          },
          "execution_count": 43,
          "metadata": {},
          "output_type": "execute_result"
        }
      ]
    },
    {
      "cell_type": "code",
      "metadata": {
        "colab": {
          "base_uri": "https://localhost:8080/"
        },
        "id": "yVTsjza_VmrU",
        "outputId": "cd3b7e72-ff0e-406f-bd79-3b585a6e5109"
      },
      "source": [
        "ad.score(x_test, y_test)"
      ],
      "execution_count": null,
      "outputs": [
        {
          "data": {
            "text/plain": [
              "0.7922077922077922"
            ]
          },
          "execution_count": 44,
          "metadata": {},
          "output_type": "execute_result"
        }
      ]
    },
    {
      "cell_type": "code",
      "metadata": {
        "id": "EUnaRtIuPxTe"
      },
      "source": [
        "Y_pred =ad.predict(x_test)\n",
        "Y_pred = (Y_pred >0.5)"
      ],
      "execution_count": null,
      "outputs": []
    },
    {
      "cell_type": "code",
      "metadata": {
        "colab": {
          "base_uri": "https://localhost:8080/"
        },
        "id": "e_Y2GmSuSul6",
        "outputId": "be6e52d9-c193-4adb-d86d-b61e1674165f"
      },
      "source": [
        "confusion = confusion_matrix(y_test,Y_pred)        ###Model evaluation\n",
        "precision = precision_score(y_test,Y_pred)\n",
        "recall = recall_score(y_test,Y_pred)\n",
        "F1 = f1_score(y_test,Y_pred)\n",
        "specificity = (confusion[0][0]/(confusion[0][0]+confusion[0][1]))\n",
        "print('confusion matrix {}'.format(confusion))\n",
        "print('precision is {}'.format(precision))\n",
        "print('recall is  {}'.format(recall))\n",
        "print('F1 score {}'.format(F1))\n",
        "print('specificity is {}'.format(specificity))"
      ],
      "execution_count": null,
      "outputs": [
        {
          "name": "stdout",
          "output_type": "stream",
          "text": [
            "confusion matrix [[42  9]\n",
            " [ 7 19]]\n",
            "precision is 0.6785714285714286\n",
            "recall is  0.7307692307692307\n",
            "F1 score 0.7037037037037038\n",
            "specificity is 0.8235294117647058\n"
          ]
        }
      ]
    },
    {
      "cell_type": "code",
      "metadata": {
        "colab": {
          "base_uri": "https://localhost:8080/"
        },
        "id": "k-X3fuzZSuo9",
        "outputId": "40eff5b6-369a-41d6-a391-0cfaca99b46b"
      },
      "source": [
        "Y_pred_proba = ad.predict(x_test)\n",
        "fpr, tpr, _ = roc_curve(y_test, Y_pred_proba)\n",
        "auc = roc_auc_score(y_test, Y_pred_proba)\n",
        "plt.plot(fpr,tpr,label=\"data 1, auc=\"+str(auc))\n",
        "plt.legend(loc=4)\n",
        "fig1 = plt.gcf()\n",
        "plt.title('AdaBoost Classifier', fontsize = 12)\n",
        "plt.show()\n",
        "plt.draw()\n",
        "fig1.savefig('AdaBoostClassifier(before).png', dpi=100)"
      ],
      "execution_count": null,
      "outputs": [
        {
          "data": {
            "image/png": "[encoded data removed]",
            "text/plain": [
              "<Figure size 432x288 with 1 Axes>"
            ]
          },
          "metadata": {},
          "output_type": "display_data"
        },
        {
          "data": {
            "text/plain": [
              "<Figure size 432x288 with 0 Axes>"
            ]
          },
          "metadata": {},
          "output_type": "display_data"
        }
      ]
    },
    {
      "cell_type": "code",
      "metadata": {
        "colab": {
          "base_uri": "https://localhost:8080/"
        },
        "id": "h1Gt8QIWSurp",
        "outputId": "2dac33b4-4b30-4af1-c111-b38cb881f574"
      },
      "source": [
        "from sklearn.model_selection import cross_val_score\n",
        "score = cross_val_score(ad, x_train, y_train.ravel(), cv=10)\n",
        "print(score)"
      ],
      "execution_count": null,
      "outputs": [
        {
          "name": "stdout",
          "output_type": "stream",
          "text": [
            "[0.71428571 0.66666667 0.7826087  0.7826087  0.8115942  0.68115942\n",
            " 0.73913043 0.69565217 0.73913043 0.76811594]\n"
          ]
        }
      ]
    },
    {
      "cell_type": "code",
      "metadata": {
        "id": "j7U3RJAC41zV"
      },
      "source": [
        "from sklearn.model_selection import GridSearchCV\n",
        "from sklearn.model_selection import cross_val_score\n",
        "from sklearn.model_selection import KFold\n",
        "from sklearn import tree\n"
      ],
      "execution_count": null,
      "outputs": []
    },
    {
      "cell_type": "code",
      "metadata": {
        "colab": {
          "base_uri": "https://localhost:8080/"
        },
        "id": "XlrahdER5RlN",
        "outputId": "5da4bf66-7553-4c04-f657-91e05e3ae59e"
      },
      "source": [
        "crossvalidation=KFold(n_splits=10,shuffle=True,random_state=1)\n",
        "for depth in range (1,10):\n",
        "    tree_classifier=tree.DecisionTreeClassifier(max_depth=depth,random_state=1)\n",
        "    if tree_classifier.fit(x_train,y_train).tree_.max_depth<depth:\n",
        "        break\n",
        "    score=np.mean(cross_val_score(tree_classifier,x_train,y_train,scoring='accuracy', cv=crossvalidation,n_jobs=1))\n",
        "    print(depth, score)\n"
      ],
      "execution_count": null,
      "outputs": [
        {
          "name": "stdout",
          "output_type": "stream",
          "text": [
            "1 0.6946997929606626\n",
            "2 0.7381780538302277\n",
            "3 0.7324016563146997\n",
            "4 0.714927536231884\n",
            "5 0.7236024844720497\n",
            "6 0.7207246376811594\n",
            "7 0.7105590062111801\n",
            "8 0.7062525879917184\n",
            "9 0.6961283643892339\n"
          ]
        }
      ]
    },
    {
      "cell_type": "code",
      "metadata": {
        "id": "LKw_O6Z05Rpa"
      },
      "source": [
        ""
      ],
      "execution_count": null,
      "outputs": []
    },
    {
      "cell_type": "code",
      "metadata": {
        "id": "iWIk75TN5RtD"
      },
      "source": [
        ""
      ],
      "execution_count": null,
      "outputs": []
    },
    {
      "cell_type": "code",
      "metadata": {
        "id": "mf2PxXn2412g"
      },
      "source": [
        "ada=AdaBoostClassifier()\n",
        "search_grid={'n_estimators':[500, 1000],'learning_rate':[.001,0.01,.1]}\n",
        "search=GridSearchCV(estimator=ada,param_grid=search_grid,scoring='accuracy',n_jobs=1,cv=crossvalidation)\n"
      ],
      "execution_count": null,
      "outputs": []
    },
    {
      "cell_type": "code",
      "metadata": {
        "colab": {
          "base_uri": "https://localhost:8080/"
        },
        "id": "qdOk5J5Z416u",
        "outputId": "44d9d75f-fcef-4fb1-b2c5-52d70bd44763"
      },
      "source": [
        "search.fit(x_train,y_train)\n",
        "search.best_params_"
      ],
      "execution_count": null,
      "outputs": [
        {
          "name": "stderr",
          "output_type": "stream",
          "text": [
            "/usr/local/lib/python3.7/dist-packages/sklearn/utils/validation.py:760: DataConversionWarning: A column-vector y was passed when a 1d array was expected. Please change the shape of y to (n_samples, ), for example using ravel().\n",
            "  y = column_or_1d(y, warn=True)\n",
            "/usr/local/lib/python3.7/dist-packages/sklearn/utils/validation.py:760: DataConversionWarning: A column-vector y was passed when a 1d array was expected. Please change the shape of y to (n_samples, ), for example using ravel().\n",
            "  y = column_or_1d(y, warn=True)\n",
            "/usr/local/lib/python3.7/dist-packages/sklearn/utils/validation.py:760: DataConversionWarning: A column-vector y was passed when a 1d array was expected. Please change the shape of y to (n_samples, ), for example using ravel().\n",
            "  y = column_or_1d(y, warn=True)\n",
            "/usr/local/lib/python3.7/dist-packages/sklearn/utils/validation.py:760: DataConversionWarning: A column-vector y was passed when a 1d array was expected. Please change the shape of y to (n_samples, ), for example using ravel().\n",
            "  y = column_or_1d(y, warn=True)\n",
            "/usr/local/lib/python3.7/dist-packages/sklearn/utils/validation.py:760: DataConversionWarning: A column-vector y was passed when a 1d array was expected. Please change the shape of y to (n_samples, ), for example using ravel().\n",
            "  y = column_or_1d(y, warn=True)\n",
            "/usr/local/lib/python3.7/dist-packages/sklearn/utils/validation.py:760: DataConversionWarning: A column-vector y was passed when a 1d array was expected. Please change the shape of y to (n_samples, ), for example using ravel().\n",
            "  y = column_or_1d(y, warn=True)\n",
            "/usr/local/lib/python3.7/dist-packages/sklearn/utils/validation.py:760: DataConversionWarning: A column-vector y was passed when a 1d array was expected. Please change the shape of y to (n_samples, ), for example using ravel().\n",
            "  y = column_or_1d(y, warn=True)\n",
            "/usr/local/lib/python3.7/dist-packages/sklearn/utils/validation.py:760: DataConversionWarning: A column-vector y was passed when a 1d array was expected. Please change the shape of y to (n_samples, ), for example using ravel().\n",
            "  y = column_or_1d(y, warn=True)\n",
            "/usr/local/lib/python3.7/dist-packages/sklearn/utils/validation.py:760: DataConversionWarning: A column-vector y was passed when a 1d array was expected. Please change the shape of y to (n_samples, ), for example using ravel().\n",
            "  y = column_or_1d(y, warn=True)\n",
            "/usr/local/lib/python3.7/dist-packages/sklearn/utils/validation.py:760: DataConversionWarning: A column-vector y was passed when a 1d array was expected. Please change the shape of y to (n_samples, ), for example using ravel().\n",
            "  y = column_or_1d(y, warn=True)\n",
            "/usr/local/lib/python3.7/dist-packages/sklearn/utils/validation.py:760: DataConversionWarning: A column-vector y was passed when a 1d array was expected. Please change the shape of y to (n_samples, ), for example using ravel().\n",
            "  y = column_or_1d(y, warn=True)\n",
            "/usr/local/lib/python3.7/dist-packages/sklearn/utils/validation.py:760: DataConversionWarning: A column-vector y was passed when a 1d array was expected. Please change the shape of y to (n_samples, ), for example using ravel().\n",
            "  y = column_or_1d(y, warn=True)\n",
            "/usr/local/lib/python3.7/dist-packages/sklearn/utils/validation.py:760: DataConversionWarning: A column-vector y was passed when a 1d array was expected. Please change the shape of y to (n_samples, ), for example using ravel().\n",
            "  y = column_or_1d(y, warn=True)\n",
            "/usr/local/lib/python3.7/dist-packages/sklearn/utils/validation.py:760: DataConversionWarning: A column-vector y was passed when a 1d array was expected. Please change the shape of y to (n_samples, ), for example using ravel().\n",
            "  y = column_or_1d(y, warn=True)\n",
            "/usr/local/lib/python3.7/dist-packages/sklearn/utils/validation.py:760: DataConversionWarning: A column-vector y was passed when a 1d array was expected. Please change the shape of y to (n_samples, ), for example using ravel().\n",
            "  y = column_or_1d(y, warn=True)\n",
            "/usr/local/lib/python3.7/dist-packages/sklearn/utils/validation.py:760: DataConversionWarning: A column-vector y was passed when a 1d array was expected. Please change the shape of y to (n_samples, ), for example using ravel().\n",
            "  y = column_or_1d(y, warn=True)\n",
            "/usr/local/lib/python3.7/dist-packages/sklearn/utils/validation.py:760: DataConversionWarning: A column-vector y was passed when a 1d array was expected. Please change the shape of y to (n_samples, ), for example using ravel().\n",
            "  y = column_or_1d(y, warn=True)\n",
            "/usr/local/lib/python3.7/dist-packages/sklearn/utils/validation.py:760: DataConversionWarning: A column-vector y was passed when a 1d array was expected. Please change the shape of y to (n_samples, ), for example using ravel().\n",
            "  y = column_or_1d(y, warn=True)\n",
            "/usr/local/lib/python3.7/dist-packages/sklearn/utils/validation.py:760: DataConversionWarning: A column-vector y was passed when a 1d array was expected. Please change the shape of y to (n_samples, ), for example using ravel().\n",
            "  y = column_or_1d(y, warn=True)\n",
            "/usr/local/lib/python3.7/dist-packages/sklearn/utils/validation.py:760: DataConversionWarning: A column-vector y was passed when a 1d array was expected. Please change the shape of y to (n_samples, ), for example using ravel().\n",
            "  y = column_or_1d(y, warn=True)\n",
            "/usr/local/lib/python3.7/dist-packages/sklearn/utils/validation.py:760: DataConversionWarning: A column-vector y was passed when a 1d array was expected. Please change the shape of y to (n_samples, ), for example using ravel().\n",
            "  y = column_or_1d(y, warn=True)\n",
            "/usr/local/lib/python3.7/dist-packages/sklearn/utils/validation.py:760: DataConversionWarning: A column-vector y was passed when a 1d array was expected. Please change the shape of y to (n_samples, ), for example using ravel().\n",
            "  y = column_or_1d(y, warn=True)\n",
            "/usr/local/lib/python3.7/dist-packages/sklearn/utils/validation.py:760: DataConversionWarning: A column-vector y was passed when a 1d array was expected. Please change the shape of y to (n_samples, ), for example using ravel().\n",
            "  y = column_or_1d(y, warn=True)\n",
            "/usr/local/lib/python3.7/dist-packages/sklearn/utils/validation.py:760: DataConversionWarning: A column-vector y was passed when a 1d array was expected. Please change the shape of y to (n_samples, ), for example using ravel().\n",
            "  y = column_or_1d(y, warn=True)\n",
            "/usr/local/lib/python3.7/dist-packages/sklearn/utils/validation.py:760: DataConversionWarning: A column-vector y was passed when a 1d array was expected. Please change the shape of y to (n_samples, ), for example using ravel().\n",
            "  y = column_or_1d(y, warn=True)\n",
            "/usr/local/lib/python3.7/dist-packages/sklearn/utils/validation.py:760: DataConversionWarning: A column-vector y was passed when a 1d array was expected. Please change the shape of y to (n_samples, ), for example using ravel().\n",
            "  y = column_or_1d(y, warn=True)\n",
            "/usr/local/lib/python3.7/dist-packages/sklearn/utils/validation.py:760: DataConversionWarning: A column-vector y was passed when a 1d array was expected. Please change the shape of y to (n_samples, ), for example using ravel().\n",
            "  y = column_or_1d(y, warn=True)\n",
            "/usr/local/lib/python3.7/dist-packages/sklearn/utils/validation.py:760: DataConversionWarning: A column-vector y was passed when a 1d array was expected. Please change the shape of y to (n_samples, ), for example using ravel().\n",
            "  y = column_or_1d(y, warn=True)\n",
            "/usr/local/lib/python3.7/dist-packages/sklearn/utils/validation.py:760: DataConversionWarning: A column-vector y was passed when a 1d array was expected. Please change the shape of y to (n_samples, ), for example using ravel().\n",
            "  y = column_or_1d(y, warn=True)\n",
            "/usr/local/lib/python3.7/dist-packages/sklearn/utils/validation.py:760: DataConversionWarning: A column-vector y was passed when a 1d array was expected. Please change the shape of y to (n_samples, ), for example using ravel().\n",
            "  y = column_or_1d(y, warn=True)\n",
            "/usr/local/lib/python3.7/dist-packages/sklearn/utils/validation.py:760: DataConversionWarning: A column-vector y was passed when a 1d array was expected. Please change the shape of y to (n_samples, ), for example using ravel().\n",
            "  y = column_or_1d(y, warn=True)\n",
            "/usr/local/lib/python3.7/dist-packages/sklearn/utils/validation.py:760: DataConversionWarning: A column-vector y was passed when a 1d array was expected. Please change the shape of y to (n_samples, ), for example using ravel().\n",
            "  y = column_or_1d(y, warn=True)\n",
            "/usr/local/lib/python3.7/dist-packages/sklearn/utils/validation.py:760: DataConversionWarning: A column-vector y was passed when a 1d array was expected. Please change the shape of y to (n_samples, ), for example using ravel().\n",
            "  y = column_or_1d(y, warn=True)\n",
            "/usr/local/lib/python3.7/dist-packages/sklearn/utils/validation.py:760: DataConversionWarning: A column-vector y was passed when a 1d array was expected. Please change the shape of y to (n_samples, ), for example using ravel().\n",
            "  y = column_or_1d(y, warn=True)\n",
            "/usr/local/lib/python3.7/dist-packages/sklearn/utils/validation.py:760: DataConversionWarning: A column-vector y was passed when a 1d array was expected. Please change the shape of y to (n_samples, ), for example using ravel().\n",
            "  y = column_or_1d(y, warn=True)\n",
            "/usr/local/lib/python3.7/dist-packages/sklearn/utils/validation.py:760: DataConversionWarning: A column-vector y was passed when a 1d array was expected. Please change the shape of y to (n_samples, ), for example using ravel().\n",
            "  y = column_or_1d(y, warn=True)\n",
            "/usr/local/lib/python3.7/dist-packages/sklearn/utils/validation.py:760: DataConversionWarning: A column-vector y was passed when a 1d array was expected. Please change the shape of y to (n_samples, ), for example using ravel().\n",
            "  y = column_or_1d(y, warn=True)\n",
            "/usr/local/lib/python3.7/dist-packages/sklearn/utils/validation.py:760: DataConversionWarning: A column-vector y was passed when a 1d array was expected. Please change the shape of y to (n_samples, ), for example using ravel().\n",
            "  y = column_or_1d(y, warn=True)\n",
            "/usr/local/lib/python3.7/dist-packages/sklearn/utils/validation.py:760: DataConversionWarning: A column-vector y was passed when a 1d array was expected. Please change the shape of y to (n_samples, ), for example using ravel().\n",
            "  y = column_or_1d(y, warn=True)\n",
            "/usr/local/lib/python3.7/dist-packages/sklearn/utils/validation.py:760: DataConversionWarning: A column-vector y was passed when a 1d array was expected. Please change the shape of y to (n_samples, ), for example using ravel().\n",
            "  y = column_or_1d(y, warn=True)\n",
            "/usr/local/lib/python3.7/dist-packages/sklearn/utils/validation.py:760: DataConversionWarning: A column-vector y was passed when a 1d array was expected. Please change the shape of y to (n_samples, ), for example using ravel().\n",
            "  y = column_or_1d(y, warn=True)\n",
            "/usr/local/lib/python3.7/dist-packages/sklearn/utils/validation.py:760: DataConversionWarning: A column-vector y was passed when a 1d array was expected. Please change the shape of y to (n_samples, ), for example using ravel().\n",
            "  y = column_or_1d(y, warn=True)\n",
            "/usr/local/lib/python3.7/dist-packages/sklearn/utils/validation.py:760: DataConversionWarning: A column-vector y was passed when a 1d array was expected. Please change the shape of y to (n_samples, ), for example using ravel().\n",
            "  y = column_or_1d(y, warn=True)\n",
            "/usr/local/lib/python3.7/dist-packages/sklearn/utils/validation.py:760: DataConversionWarning: A column-vector y was passed when a 1d array was expected. Please change the shape of y to (n_samples, ), for example using ravel().\n",
            "  y = column_or_1d(y, warn=True)\n",
            "/usr/local/lib/python3.7/dist-packages/sklearn/utils/validation.py:760: DataConversionWarning: A column-vector y was passed when a 1d array was expected. Please change the shape of y to (n_samples, ), for example using ravel().\n",
            "  y = column_or_1d(y, warn=True)\n",
            "/usr/local/lib/python3.7/dist-packages/sklearn/utils/validation.py:760: DataConversionWarning: A column-vector y was passed when a 1d array was expected. Please change the shape of y to (n_samples, ), for example using ravel().\n",
            "  y = column_or_1d(y, warn=True)\n",
            "/usr/local/lib/python3.7/dist-packages/sklearn/utils/validation.py:760: DataConversionWarning: A column-vector y was passed when a 1d array was expected. Please change the shape of y to (n_samples, ), for example using ravel().\n",
            "  y = column_or_1d(y, warn=True)\n",
            "/usr/local/lib/python3.7/dist-packages/sklearn/utils/validation.py:760: DataConversionWarning: A column-vector y was passed when a 1d array was expected. Please change the shape of y to (n_samples, ), for example using ravel().\n",
            "  y = column_or_1d(y, warn=True)\n",
            "/usr/local/lib/python3.7/dist-packages/sklearn/utils/validation.py:760: DataConversionWarning: A column-vector y was passed when a 1d array was expected. Please change the shape of y to (n_samples, ), for example using ravel().\n",
            "  y = column_or_1d(y, warn=True)\n",
            "/usr/local/lib/python3.7/dist-packages/sklearn/utils/validation.py:760: DataConversionWarning: A column-vector y was passed when a 1d array was expected. Please change the shape of y to (n_samples, ), for example using ravel().\n",
            "  y = column_or_1d(y, warn=True)\n",
            "/usr/local/lib/python3.7/dist-packages/sklearn/utils/validation.py:760: DataConversionWarning: A column-vector y was passed when a 1d array was expected. Please change the shape of y to (n_samples, ), for example using ravel().\n",
            "  y = column_or_1d(y, warn=True)\n",
            "/usr/local/lib/python3.7/dist-packages/sklearn/utils/validation.py:760: DataConversionWarning: A column-vector y was passed when a 1d array was expected. Please change the shape of y to (n_samples, ), for example using ravel().\n",
            "  y = column_or_1d(y, warn=True)\n",
            "/usr/local/lib/python3.7/dist-packages/sklearn/utils/validation.py:760: DataConversionWarning: A column-vector y was passed when a 1d array was expected. Please change the shape of y to (n_samples, ), for example using ravel().\n",
            "  y = column_or_1d(y, warn=True)\n",
            "/usr/local/lib/python3.7/dist-packages/sklearn/utils/validation.py:760: DataConversionWarning: A column-vector y was passed when a 1d array was expected. Please change the shape of y to (n_samples, ), for example using ravel().\n",
            "  y = column_or_1d(y, warn=True)\n",
            "/usr/local/lib/python3.7/dist-packages/sklearn/utils/validation.py:760: DataConversionWarning: A column-vector y was passed when a 1d array was expected. Please change the shape of y to (n_samples, ), for example using ravel().\n",
            "  y = column_or_1d(y, warn=True)\n",
            "/usr/local/lib/python3.7/dist-packages/sklearn/utils/validation.py:760: DataConversionWarning: A column-vector y was passed when a 1d array was expected. Please change the shape of y to (n_samples, ), for example using ravel().\n",
            "  y = column_or_1d(y, warn=True)\n",
            "/usr/local/lib/python3.7/dist-packages/sklearn/utils/validation.py:760: DataConversionWarning: A column-vector y was passed when a 1d array was expected. Please change the shape of y to (n_samples, ), for example using ravel().\n",
            "  y = column_or_1d(y, warn=True)\n",
            "/usr/local/lib/python3.7/dist-packages/sklearn/utils/validation.py:760: DataConversionWarning: A column-vector y was passed when a 1d array was expected. Please change the shape of y to (n_samples, ), for example using ravel().\n",
            "  y = column_or_1d(y, warn=True)\n",
            "/usr/local/lib/python3.7/dist-packages/sklearn/utils/validation.py:760: DataConversionWarning: A column-vector y was passed when a 1d array was expected. Please change the shape of y to (n_samples, ), for example using ravel().\n",
            "  y = column_or_1d(y, warn=True)\n",
            "/usr/local/lib/python3.7/dist-packages/sklearn/utils/validation.py:760: DataConversionWarning: A column-vector y was passed when a 1d array was expected. Please change the shape of y to (n_samples, ), for example using ravel().\n",
            "  y = column_or_1d(y, warn=True)\n",
            "/usr/local/lib/python3.7/dist-packages/sklearn/utils/validation.py:760: DataConversionWarning: A column-vector y was passed when a 1d array was expected. Please change the shape of y to (n_samples, ), for example using ravel().\n",
            "  y = column_or_1d(y, warn=True)\n"
          ]
        },
        {
          "data": {
            "text/plain": [
              "{'learning_rate': 0.01, 'n_estimators': 500}"
            ]
          },
          "execution_count": 52,
          "metadata": {},
          "output_type": "execute_result"
        }
      ]
    },
    {
      "cell_type": "code",
      "metadata": {
        "colab": {
          "base_uri": "https://localhost:8080/"
        },
        "id": "GJaICszy41_M",
        "outputId": "8223ffad-dca5-45f1-be6c-cf05a2b47bb0"
      },
      "source": [
        "ad1 = AdaBoostClassifier(n_estimators= 500, learning_rate=0.2)\n",
        "ad1.fit(x_train, y_train)\n",
        "ad1.score(x_train, y_train)"
      ],
      "execution_count": null,
      "outputs": [
        {
          "name": "stderr",
          "output_type": "stream",
          "text": [
            "/usr/local/lib/python3.7/dist-packages/sklearn/utils/validation.py:760: DataConversionWarning: A column-vector y was passed when a 1d array was expected. Please change the shape of y to (n_samples, ), for example using ravel().\n",
            "  y = column_or_1d(y, warn=True)\n"
          ]
        },
        {
          "data": {
            "text/plain": [
              "0.8408104196816208"
            ]
          },
          "execution_count": 53,
          "metadata": {},
          "output_type": "execute_result"
        }
      ]
    },
    {
      "cell_type": "code",
      "metadata": {
        "colab": {
          "base_uri": "https://localhost:8080/"
        },
        "id": "B1pfrrzM428H",
        "outputId": "5c1c6770-5f6b-463a-b697-118861b8769e"
      },
      "source": [
        "ad1.score(x_test, y_test)"
      ],
      "execution_count": null,
      "outputs": [
        {
          "data": {
            "text/plain": [
              "0.8051948051948052"
            ]
          },
          "execution_count": 54,
          "metadata": {},
          "output_type": "execute_result"
        }
      ]
    },
    {
      "cell_type": "code",
      "metadata": {
        "id": "Ou15T4ccQCSf"
      },
      "source": [
        "Y_pred =ad1.predict(x_test)\n",
        "Y_pred = (Y_pred >0.5)"
      ],
      "execution_count": null,
      "outputs": []
    },
    {
      "cell_type": "code",
      "metadata": {
        "colab": {
          "base_uri": "https://localhost:8080/"
        },
        "id": "8gyCR-qG42-5",
        "outputId": "cc9d6834-1a58-45be-f963-e054c9f05336"
      },
      "source": [
        "confusion = confusion_matrix(y_test,Y_pred)        ###Model evaluation\n",
        "precision = precision_score(y_test,Y_pred)\n",
        "recall = recall_score(y_test,Y_pred)\n",
        "F1 = f1_score(y_test,Y_pred)\n",
        "specificity = (confusion[0][0]/(confusion[0][0]+confusion[0][1]))\n",
        "print('confusion matrix {}'.format(confusion))\n",
        "print('precision is {}'.format(precision))\n",
        "print('recall is  {}'.format(recall))\n",
        "print('F1 score {}'.format(F1))\n",
        "print('specificity is {}'.format(specificity))"
      ],
      "execution_count": null,
      "outputs": [
        {
          "name": "stdout",
          "output_type": "stream",
          "text": [
            "confusion matrix [[44  7]\n",
            " [ 8 18]]\n",
            "precision is 0.72\n",
            "recall is  0.6923076923076923\n",
            "F1 score 0.7058823529411765\n",
            "specificity is 0.8627450980392157\n"
          ]
        }
      ]
    },
    {
      "cell_type": "code",
      "metadata": {
        "colab": {
          "base_uri": "https://localhost:8080/",
          "height": 298
        },
        "id": "UlraPLQvTF0_",
        "outputId": "d8d87344-cf07-4bc3-eab8-fc898cf15e8f"
      },
      "source": [
        "Y_pred_proba = ad1.predict(x_test)\n",
        "fpr, tpr, _ = roc_curve(y_test, Y_pred_proba)\n",
        "auc = roc_auc_score(y_test, Y_pred_proba)\n",
        "plt.plot(fpr,tpr,label=\"data 1, auc=\"+str(auc))\n",
        "plt.legend(loc=4)\n",
        "fig1 = plt.gcf()\n",
        "plt.title('AdaBoost Classifier(After Hypperparameter Tuning)', fontsize = 12)\n",
        "plt.show()\n",
        "plt.draw()\n",
        "fig1.savefig('AdaBoostClassifier.png', dpi=100)"
      ],
      "execution_count": null,
      "outputs": [
        {
          "data": {
            "image/png": "[encoded data removed]",
            "text/plain": [
              "<Figure size 432x288 with 1 Axes>"
            ]
          },
          "metadata": {},
          "output_type": "display_data"
        },
        {
          "data": {
            "text/plain": [
              "<Figure size 432x288 with 0 Axes>"
            ]
          },
          "metadata": {},
          "output_type": "display_data"
        }
      ]
    },
    {
      "cell_type": "code",
      "metadata": {
        "colab": {
          "base_uri": "https://localhost:8080/"
        },
        "id": "8Sz_dy5_TGn5",
        "outputId": "bb389ee6-3af6-46d2-a8d2-c3e2944f58bc"
      },
      "source": [
        "from sklearn.model_selection import cross_val_score\n",
        "score = cross_val_score(ad, x_train, y_train.ravel(), cv=10)\n",
        "print(score)"
      ],
      "execution_count": null,
      "outputs": [
        {
          "name": "stdout",
          "output_type": "stream",
          "text": [
            "[0.71428571 0.66666667 0.7826087  0.7826087  0.8115942  0.68115942\n",
            " 0.73913043 0.69565217 0.73913043 0.76811594]\n"
          ]
        }
      ]
    },
    {
      "cell_type": "code",
      "metadata": {
        "id": "0V5sJrO7TG5R"
      },
      "source": [
        ""
      ],
      "execution_count": null,
      "outputs": []
    },
    {
      "cell_type": "code",
      "metadata": {
        "id": "DvX-pDl843Ct"
      },
      "source": [
        ""
      ],
      "execution_count": null,
      "outputs": []
    },
    {
      "cell_type": "code",
      "metadata": {
        "id": "_sS55_PF43GD"
      },
      "source": [
        ""
      ],
      "execution_count": null,
      "outputs": []
    },
    {
      "cell_type": "code",
      "metadata": {
        "id": "gKlBky1yWq0M"
      },
      "source": [
        "#hyperparameter tunining"
      ],
      "execution_count": null,
      "outputs": []
    },
    {
      "cell_type": "code",
      "metadata": {
        "id": "xYJw3dvoPSjA"
      },
      "source": [
        "params = {\n",
        "    \"n_jobs\" : [1,2,3],\n",
        "    \"max_depth\": [4, 6, 7, 8, 11, 13, 15],\n",
        "    \"n_estimators\":[20,30,40,0, 60],\n",
        "    \"n_jobs\" : [1,2,3]\n",
        "}"
      ],
      "execution_count": null,
      "outputs": []
    },
    {
      "cell_type": "code",
      "metadata": {
        "id": "x-ZWH3YlPSlf"
      },
      "source": [
        "from sklearn.model_selection import RandomizedSearchCV\n",
        "import xgboost"
      ],
      "execution_count": null,
      "outputs": []
    },
    {
      "cell_type": "code",
      "metadata": {
        "id": "xF5KOpZqS2H0"
      },
      "source": [
        "classifier1 = RandomForestClassifier()"
      ],
      "execution_count": null,
      "outputs": []
    },
    {
      "cell_type": "code",
      "metadata": {
        "id": "J6-CfxszS2Ku"
      },
      "source": [
        "random_search = RandomizedSearchCV(classifier1, param_distributions=params, n_iter=5, scoring='roc_auc', n_jobs=3, cv=5, verbose=True)\n"
      ],
      "execution_count": null,
      "outputs": []
    },
    {
      "cell_type": "code",
      "metadata": {
        "id": "txNJP1GnTE7g"
      },
      "source": [
        "def timer(start_time=None):\n",
        "    if not start_time:\n",
        "        start_time = datetime.now()\n",
        "        return start_time\n",
        "    elif start_time:\n",
        "        thour, temp_sec = divmod((datetime.now() - start_time).total_seconds(), 3600)\n",
        "        tmin, tsec = divmod(temp_sec, 60)\n",
        "        print(\"\\n Time Taken: %i hours %i minutes and %i seconds.\" %(thour, tmin, round(tsec, 2)))"
      ],
      "execution_count": null,
      "outputs": []
    },
    {
      "cell_type": "code",
      "metadata": {
        "colab": {
          "base_uri": "https://localhost:8080/"
        },
        "id": "sMe_ynU8TE-E",
        "outputId": "4f20319e-8b50-4b63-8f56-835beb22e205"
      },
      "source": [
        "from datetime import datetime\n",
        "start_time = timer(None)\n",
        "random_search.fit(x_train, y_train.ravel())\n",
        "timer(start_time)"
      ],
      "execution_count": null,
      "outputs": [
        {
          "name": "stdout",
          "output_type": "stream",
          "text": [
            "Fitting 5 folds for each of 5 candidates, totalling 25 fits\n"
          ]
        },
        {
          "name": "stderr",
          "output_type": "stream",
          "text": [
            "[Parallel(n_jobs=3)]: Using backend LokyBackend with 3 concurrent workers.\n"
          ]
        },
        {
          "name": "stdout",
          "output_type": "stream",
          "text": [
            "\n",
            " Time Taken: 0 hours 0 minutes and 2 seconds.\n"
          ]
        },
        {
          "name": "stderr",
          "output_type": "stream",
          "text": [
            "[Parallel(n_jobs=3)]: Done  25 out of  25 | elapsed:    2.7s finished\n"
          ]
        }
      ]
    },
    {
      "cell_type": "code",
      "metadata": {
        "colab": {
          "base_uri": "https://localhost:8080/"
        },
        "id": "B31s_QILTFA6",
        "outputId": "c390f8fa-ddb7-492e-cc68-60363c4eed65"
      },
      "source": [
        "random_search.best_estimator_\n"
      ],
      "execution_count": null,
      "outputs": [
        {
          "data": {
            "text/plain": [
              "RandomForestClassifier(bootstrap=True, ccp_alpha=0.0, class_weight=None,\n",
              "                       criterion='gini', max_depth=6, max_features='auto',\n",
              "                       max_leaf_nodes=None, max_samples=None,\n",
              "                       min_impurity_decrease=0.0, min_impurity_split=None,\n",
              "                       min_samples_leaf=1, min_samples_split=2,\n",
              "                       min_weight_fraction_leaf=0.0, n_estimators=40, n_jobs=2,\n",
              "                       oob_score=False, random_state=None, verbose=0,\n",
              "                       warm_start=False)"
            ]
          },
          "execution_count": 66,
          "metadata": {},
          "output_type": "execute_result"
        }
      ]
    },
    {
      "cell_type": "code",
      "metadata": {
        "id": "XYLezSsJS2ND"
      },
      "source": [
        "classifier1 = RandomForestClassifier(bootstrap=True, ccp_alpha=0.0, class_weight=None,\n",
        "                       criterion='gini', max_depth=4, max_features='auto',\n",
        "                       max_leaf_nodes=None, max_samples=None,\n",
        "                       min_impurity_decrease=0.0, min_impurity_split=None,\n",
        "                       min_samples_leaf=1, min_samples_split=2,\n",
        "                       min_weight_fraction_leaf=0.0, n_estimators=40, n_jobs=2,\n",
        "                       oob_score=False, random_state=None, verbose=0,\n",
        "                       warm_start=False)"
      ],
      "execution_count": null,
      "outputs": []
    },
    {
      "cell_type": "code",
      "metadata": {
        "colab": {
          "base_uri": "https://localhost:8080/"
        },
        "id": "J-ptX27gS2Pt",
        "outputId": "8ea82dd0-65a3-4e1d-cf31-774193fea761"
      },
      "source": [
        "classifier1.fit(x_train, y_train)"
      ],
      "execution_count": null,
      "outputs": [
        {
          "name": "stderr",
          "output_type": "stream",
          "text": [
            "/usr/local/lib/python3.7/dist-packages/ipykernel_launcher.py:1: DataConversionWarning: A column-vector y was passed when a 1d array was expected. Please change the shape of y to (n_samples,), for example using ravel().\n",
            "  \"\"\"Entry point for launching an IPython kernel.\n"
          ]
        },
        {
          "data": {
            "text/plain": [
              "RandomForestClassifier(bootstrap=True, ccp_alpha=0.0, class_weight=None,\n",
              "                       criterion='gini', max_depth=4, max_features='auto',\n",
              "                       max_leaf_nodes=None, max_samples=None,\n",
              "                       min_impurity_decrease=0.0, min_impurity_split=None,\n",
              "                       min_samples_leaf=1, min_samples_split=2,\n",
              "                       min_weight_fraction_leaf=0.0, n_estimators=40, n_jobs=2,\n",
              "                       oob_score=False, random_state=None, verbose=0,\n",
              "                       warm_start=False)"
            ]
          },
          "execution_count": 68,
          "metadata": {},
          "output_type": "execute_result"
        }
      ]
    },
    {
      "cell_type": "code",
      "metadata": {
        "id": "SABnjqL-W2hu"
      },
      "source": [
        "y_preds = classifier1.predict(x_test)"
      ],
      "execution_count": null,
      "outputs": []
    },
    {
      "cell_type": "code",
      "metadata": {
        "colab": {
          "base_uri": "https://localhost:8080/"
        },
        "id": "L1315pA_W2m-",
        "outputId": "2346c80e-0e02-4f2d-86f7-8984fc4c5b48"
      },
      "source": [
        "from sklearn.metrics import confusion_matrix, accuracy_score\n",
        "cm = confusion_matrix(y_test, y_preds)\n",
        "score = accuracy_score(y_test, y_preds)\n",
        "print(score)\n",
        "print(cm)"
      ],
      "execution_count": null,
      "outputs": [
        {
          "name": "stdout",
          "output_type": "stream",
          "text": [
            "0.8181818181818182\n",
            "[[44  7]\n",
            " [ 7 19]]\n"
          ]
        }
      ]
    },
    {
      "cell_type": "code",
      "metadata": {
        "colab": {
          "base_uri": "https://localhost:8080/"
        },
        "id": "0DWXlZyuMaaq",
        "outputId": "55659c4d-610a-4fd2-ae6c-b562935edbec"
      },
      "source": [
        "print(\"Train Accuracy:\",classifier1.score(x_train, y_train))\n",
        "preds = classifier1.predict(x_test)\n",
        "from sklearn.metrics import accuracy_score, r2_score\n",
        "print(\"Accuracy = {0:.3f}\".format(accuracy_score(y_test, preds)))"
      ],
      "execution_count": null,
      "outputs": [
        {
          "name": "stdout",
          "output_type": "stream",
          "text": [
            "Train Accuracy: 0.8191027496382055\n",
            "Accuracy = 0.818\n"
          ]
        }
      ]
    },
    {
      "cell_type": "code",
      "metadata": {
        "colab": {
          "base_uri": "https://localhost:8080/"
        },
        "id": "DnUqm2_bXWvq",
        "outputId": "032dc40d-8738-4827-fb5e-375330f7d253"
      },
      "source": [
        "from sklearn.metrics import precision_score, recall_score, f1_score, confusion_matrix, roc_curve, roc_auc_score\n",
        "import matplotlib.pyplot as plt\n",
        "Y_pred = classifier1.predict(x_test)\n",
        "Y_pred = (Y_pred >0.5)\n",
        "confusion = confusion_matrix(y_test,Y_pred)        ###Model evaluation\n",
        "precision = precision_score(y_test,Y_pred)\n",
        "recall = recall_score(y_test,Y_pred)\n",
        "F1 = f1_score(y_test,Y_pred)\n",
        "specificity = (confusion[0][0]/(confusion[0][0]+confusion[0][1]))\n",
        "print('confusion matrix {}'.format(confusion))\n",
        "print('precision is {}'.format(precision))\n",
        "print('recall is  {}'.format(recall))\n",
        "print('F1 score {}'.format(F1))\n",
        "print('specificity is {}'.format(specificity))"
      ],
      "execution_count": null,
      "outputs": [
        {
          "name": "stdout",
          "output_type": "stream",
          "text": [
            "confusion matrix [[44  7]\n",
            " [ 8 18]]\n",
            "precision is 0.72\n",
            "recall is  0.6923076923076923\n",
            "F1 score 0.7058823529411765\n",
            "specificity is 0.8627450980392157\n"
          ]
        }
      ]
    },
    {
      "cell_type": "code",
      "metadata": {
        "colab": {
          "base_uri": "https://localhost:8080/",
          "height": 298
        },
        "id": "-XtNUM-nXWyj",
        "outputId": "67b3a039-5a0d-49dd-a14b-d62bef3c01d0"
      },
      "source": [
        "Y_pred_proba = classifier1.predict(x_test)\n",
        "fpr, tpr, _ = roc_curve(y_test, Y_pred_proba)\n",
        "auc = roc_auc_score(y_test, Y_pred_proba)\n",
        "plt.plot(fpr,tpr,label=\"data 1, auc=\"+str(auc))\n",
        "plt.legend(loc=4)\n",
        "fig1 = plt.gcf()\n",
        "plt.title('Random Forest Classifier(After Hyperparameter Tuning', fontsize = 12)\n",
        "\n",
        "plt.show()\n",
        "plt.draw()\n",
        "fig1.savefig('Random Forest(after grid search).png', dpi=100)"
      ],
      "execution_count": null,
      "outputs": [
        {
          "data": {
            "image/png": "[encoded data removed]",
            "text/plain": [
              "<Figure size 432x288 with 1 Axes>"
            ]
          },
          "metadata": {
            "tags": []
          },
          "output_type": "display_data"
        },
        {
          "data": {
            "text/plain": [
              "<Figure size 432x288 with 0 Axes>"
            ]
          },
          "metadata": {
            "tags": []
          },
          "output_type": "display_data"
        }
      ]
    },
    {
      "cell_type": "code",
      "metadata": {
        "colab": {
          "base_uri": "https://localhost:8080/"
        },
        "id": "L2Cp2GyUS2Un",
        "outputId": "9a5e7229-0296-49f2-b846-b7869a4f8755"
      },
      "source": [
        "from sklearn.model_selection import cross_val_score\n",
        "score = cross_val_score(classifier1, x_train, y_train.ravel(), cv=10)\n",
        "print(score)"
      ],
      "execution_count": null,
      "outputs": [
        {
          "name": "stdout",
          "output_type": "stream",
          "text": [
            "[0.74285714 0.69565217 0.75362319 0.7826087  0.8115942  0.8115942\n",
            " 0.7826087  0.69565217 0.68115942 0.8115942 ]\n"
          ]
        }
      ]
    },
    {
      "cell_type": "code",
      "metadata": {
        "id": "UkCE7YdpS2XF"
      },
      "source": [
        "#xgboost classifier"
      ],
      "execution_count": null,
      "outputs": []
    },
    {
      "cell_type": "code",
      "metadata": {
        "id": "EAwVdDZgdgt5"
      },
      "source": [
        "from xgboost import XGBClassifier"
      ],
      "execution_count": null,
      "outputs": []
    },
    {
      "cell_type": "code",
      "metadata": {
        "id": "NlynzHaQi6Mb"
      },
      "source": [
        "xgb = XGBClassifier(n_estimators=15)"
      ],
      "execution_count": null,
      "outputs": []
    },
    {
      "cell_type": "code",
      "metadata": {
        "colab": {
          "base_uri": "https://localhost:8080/"
        },
        "id": "E4uZSAZei6PQ",
        "outputId": "eb6ba067-a6e6-451e-a10d-ebf79870b9b3"
      },
      "source": [
        "xgb.fit(x_train, y_train)"
      ],
      "execution_count": null,
      "outputs": [
        {
          "name": "stderr",
          "output_type": "stream",
          "text": [
            "/usr/local/lib/python3.7/dist-packages/sklearn/preprocessing/_label.py:235: DataConversionWarning: A column-vector y was passed when a 1d array was expected. Please change the shape of y to (n_samples, ), for example using ravel().\n",
            "  y = column_or_1d(y, warn=True)\n",
            "/usr/local/lib/python3.7/dist-packages/sklearn/preprocessing/_label.py:268: DataConversionWarning: A column-vector y was passed when a 1d array was expected. Please change the shape of y to (n_samples, ), for example using ravel().\n",
            "  y = column_or_1d(y, warn=True)\n"
          ]
        },
        {
          "data": {
            "text/plain": [
              "XGBClassifier(base_score=0.5, booster='gbtree', colsample_bylevel=1,\n",
              "              colsample_bynode=1, colsample_bytree=1, gamma=0,\n",
              "              learning_rate=0.1, max_delta_step=0, max_depth=3,\n",
              "              min_child_weight=1, missing=None, n_estimators=15, n_jobs=1,\n",
              "              nthread=None, objective='binary:logistic', random_state=0,\n",
              "              reg_alpha=0, reg_lambda=1, scale_pos_weight=1, seed=None,\n",
              "              silent=None, subsample=1, verbosity=1)"
            ]
          },
          "execution_count": 66,
          "metadata": {
            "tags": []
          },
          "output_type": "execute_result"
        }
      ]
    },
    {
      "cell_type": "code",
      "metadata": {
        "colab": {
          "base_uri": "https://localhost:8080/"
        },
        "id": "-N-zSLJAi6Rh",
        "outputId": "b7ecefc1-1bd4-42d2-cb3c-5480ebbfaaf0"
      },
      "source": [
        "print(\"Train Accuracy:\",xgb.score(x_train, y_train))\n",
        "xgb.score(x_train, y_train)"
      ],
      "execution_count": null,
      "outputs": [
        {
          "name": "stdout",
          "output_type": "stream",
          "text": [
            "Train Accuracy: 0.8133140376266281\n"
          ]
        },
        {
          "data": {
            "text/plain": [
              "0.8133140376266281"
            ]
          },
          "execution_count": 67,
          "metadata": {
            "tags": []
          },
          "output_type": "execute_result"
        }
      ]
    },
    {
      "cell_type": "code",
      "metadata": {
        "colab": {
          "base_uri": "https://localhost:8080/"
        },
        "id": "hVWrQtLvK6w0",
        "outputId": "bfe31b3a-bc6f-4041-ae36-ffc269b4d511"
      },
      "source": [
        "xgb.score(x_test, y_test)"
      ],
      "execution_count": null,
      "outputs": [
        {
          "data": {
            "text/plain": [
              "0.8051948051948052"
            ]
          },
          "execution_count": 68,
          "metadata": {
            "tags": []
          },
          "output_type": "execute_result"
        }
      ]
    },
    {
      "cell_type": "code",
      "metadata": {
        "colab": {
          "base_uri": "https://localhost:8080/"
        },
        "id": "pKc7z68Wi6T_",
        "outputId": "311193d5-c2dc-4093-cb16-c475d7730197"
      },
      "source": [
        "preds = xgb.predict(x_test)\n",
        "\n",
        "from sklearn.metrics import accuracy_score, r2_score\n",
        "\n",
        "print(\"Accuracy = {0:.3f}\".format(accuracy_score(y_test, preds)))"
      ],
      "execution_count": null,
      "outputs": [
        {
          "name": "stdout",
          "output_type": "stream",
          "text": [
            "Accuracy = 0.805\n"
          ]
        }
      ]
    },
    {
      "cell_type": "code",
      "metadata": {
        "colab": {
          "base_uri": "https://localhost:8080/"
        },
        "id": "5UpywvDddgwT",
        "outputId": "835bc5dc-f531-4abe-f81f-b543ab862e74"
      },
      "source": [
        "print(\"R2 Score = {0:.3f}\".format(r2_score(y_test, preds)))"
      ],
      "execution_count": null,
      "outputs": [
        {
          "name": "stdout",
          "output_type": "stream",
          "text": [
            "R2 Score = 0.129\n"
          ]
        }
      ]
    },
    {
      "cell_type": "code",
      "metadata": {
        "id": "w2-dOSrldgy0"
      },
      "source": [
        "Y_pred = xgb.predict(x_test)\n",
        "Y_pred = (Y_pred >0.5)"
      ],
      "execution_count": null,
      "outputs": []
    },
    {
      "cell_type": "code",
      "metadata": {
        "colab": {
          "base_uri": "https://localhost:8080/"
        },
        "id": "5-W5U7SFntEs",
        "outputId": "8e12b470-b888-49ab-d960-c3d1c487f53a"
      },
      "source": [
        "confusion = confusion_matrix(y_test,Y_pred)        ###Model evaluation\n",
        "precision = precision_score(y_test,Y_pred)\n",
        "recall = recall_score(y_test,Y_pred)\n",
        "F1 = f1_score(y_test,Y_pred)\n",
        "specificity = (confusion[0][0]/(confusion[0][0]+confusion[0][1]))\n",
        "print('confusion matrix {}'.format(confusion))\n",
        "print('precision is {}'.format(precision))\n",
        "print('recall is  {}'.format(recall))\n",
        "print('F1 score {}'.format(F1))\n",
        "print('specificity is {}'.format(specificity))"
      ],
      "execution_count": null,
      "outputs": [
        {
          "name": "stdout",
          "output_type": "stream",
          "text": [
            "confusion matrix [[44  7]\n",
            " [ 8 18]]\n",
            "precision is 0.72\n",
            "recall is  0.6923076923076923\n",
            "F1 score 0.7058823529411765\n",
            "specificity is 0.8627450980392157\n"
          ]
        }
      ]
    },
    {
      "cell_type": "code",
      "metadata": {
        "colab": {
          "base_uri": "https://localhost:8080/",
          "height": 298
        },
        "id": "Y3oiY5dbntH6",
        "outputId": "8a1604f2-3bca-4073-debb-a32e124716dc"
      },
      "source": [
        "Y_pred_proba = xgb.predict(x_test)\n",
        "fpr, tpr, _ = roc_curve(y_test, Y_pred_proba)\n",
        "auc = roc_auc_score(y_test, Y_pred_proba)\n",
        "plt.plot(fpr,tpr,label=\"data 1, auc=\"+str(auc))\n",
        "plt.legend(loc=4)\n",
        "fig1 = plt.gcf()\n",
        "plt.title('XGB Classifier', fontsize = 12)\n",
        "\n",
        "plt.show()\n",
        "plt.draw()\n",
        "fig1.savefig('Xgboost.png', dpi=100)"
      ],
      "execution_count": null,
      "outputs": [
        {
          "data": {
            "image/png": "[encoded data removed]",
            "text/plain": [
              "<Figure size 432x288 with 1 Axes>"
            ]
          },
          "metadata": {
            "tags": []
          },
          "output_type": "display_data"
        },
        {
          "data": {
            "text/plain": [
              "<Figure size 432x288 with 0 Axes>"
            ]
          },
          "metadata": {
            "tags": []
          },
          "output_type": "display_data"
        }
      ]
    },
    {
      "cell_type": "code",
      "metadata": {
        "colab": {
          "base_uri": "https://localhost:8080/"
        },
        "id": "1OE3dtFywmLf",
        "outputId": "54ea3274-1ae9-491c-8333-b82e3ffa2dad"
      },
      "source": [
        "from sklearn.model_selection import cross_val_score\n",
        "score = cross_val_score(xgb, x_train, y_train.ravel(), cv=10)\n",
        "print(score)"
      ],
      "execution_count": null,
      "outputs": [
        {
          "name": "stdout",
          "output_type": "stream",
          "text": [
            "[0.74285714 0.68115942 0.75362319 0.82608696 0.76811594 0.76811594\n",
            " 0.7826087  0.71014493 0.72463768 0.79710145]\n"
          ]
        }
      ]
    },
    {
      "cell_type": "code",
      "metadata": {
        "id": "I9rh3MByntNU"
      },
      "source": [
        "#randomizedsearchCV"
      ],
      "execution_count": null,
      "outputs": []
    },
    {
      "cell_type": "code",
      "metadata": {
        "id": "26DZrW5OPSqi"
      },
      "source": [
        "random_search = RandomizedSearchCV(xgb, param_distributions=params, n_iter=5, scoring='roc_auc', n_jobs=-1, cv=5, verbose=True)"
      ],
      "execution_count": null,
      "outputs": []
    },
    {
      "cell_type": "code",
      "metadata": {
        "id": "PkUYz5HLPSs9"
      },
      "source": [
        "def timer(start_time=None):\n",
        "    if not start_time:\n",
        "        start_time = datetime.now()\n",
        "        return start_time\n",
        "    elif start_time:\n",
        "        thour, temp_sec = divmod((datetime.now() - start_time).total_seconds(), 3600)\n",
        "        tmin, tsec = divmod(temp_sec, 60)\n",
        "        print(\"\\n Time Taken: %i hours %i minutes and %i seconds.\" %(thour, tmin, round(tsec, 2)))\n"
      ],
      "execution_count": null,
      "outputs": []
    },
    {
      "cell_type": "code",
      "metadata": {
        "colab": {
          "base_uri": "https://localhost:8080/"
        },
        "id": "JInmsEXjPSvU",
        "outputId": "fe5c8441-1288-4134-892b-89d6bded3e2d"
      },
      "source": [
        "from datetime import datetime\n",
        "start_time = timer(None)\n",
        "random_search.fit(x_train, y_train.ravel())\n",
        "timer(start_time)"
      ],
      "execution_count": null,
      "outputs": [
        {
          "name": "stdout",
          "output_type": "stream",
          "text": [
            "Fitting 5 folds for each of 5 candidates, totalling 25 fits\n"
          ]
        },
        {
          "name": "stderr",
          "output_type": "stream",
          "text": [
            "[Parallel(n_jobs=-1)]: Using backend LokyBackend with 2 concurrent workers.\n"
          ]
        },
        {
          "name": "stdout",
          "output_type": "stream",
          "text": [
            "\n",
            " Time Taken: 0 hours 0 minutes and 12 seconds.\n"
          ]
        },
        {
          "name": "stderr",
          "output_type": "stream",
          "text": [
            "[Parallel(n_jobs=-1)]: Done  25 out of  25 | elapsed:   12.5s finished\n"
          ]
        }
      ]
    },
    {
      "cell_type": "code",
      "metadata": {
        "colab": {
          "base_uri": "https://localhost:8080/"
        },
        "id": "V6bT48u0PSzz",
        "outputId": "679be20c-5c75-4c47-cb2b-eba941d74c8d"
      },
      "source": [
        "random_search.best_estimator_\n"
      ],
      "execution_count": null,
      "outputs": [
        {
          "data": {
            "text/plain": [
              "XGBClassifier(base_score=0.5, booster='gbtree', colsample_bylevel=1,\n",
              "              colsample_bynode=1, colsample_bytree=1, gamma=0,\n",
              "              learning_rate=0.1, max_delta_step=0, max_depth=7,\n",
              "              min_child_weight=1, missing=None, n_estimators=40, n_jobs=3,\n",
              "              nthread=None, objective='binary:logistic', random_state=0,\n",
              "              reg_alpha=0, reg_lambda=1, scale_pos_weight=1, seed=None,\n",
              "              silent=None, subsample=1, verbosity=1)"
            ]
          },
          "execution_count": 79,
          "metadata": {
            "tags": []
          },
          "output_type": "execute_result"
        }
      ]
    },
    {
      "cell_type": "code",
      "metadata": {
        "id": "UYNHvFppPS1y"
      },
      "source": [
        "classifier2 = xgboost.XGBClassifier(base_score=0.5, booster='gbtree', colsample_bylevel=1,\n",
        "              colsample_bynode=1, colsample_bytree=1, gamma=0,\n",
        "              learning_rate=0.1, max_delta_step=0, max_depth = 17,\n",
        "              min_child_weight=1, missing=None, n_estimators=50, n_jobs=2,\n",
        "              nthread=None, objective='binary:logistic', random_state=0,\n",
        "              reg_alpha=0, reg_lambda=1, scale_pos_weight=1, seed=None,\n",
        "              silent=None, subsample=1, verbosity=1)\n"
      ],
      "execution_count": null,
      "outputs": []
    },
    {
      "cell_type": "code",
      "metadata": {
        "colab": {
          "base_uri": "https://localhost:8080/"
        },
        "id": "eWuB1ELBPS3g",
        "outputId": "7254c5f2-2d47-408c-890c-ca54c5d5c8e0"
      },
      "source": [
        "classifier2.fit(x_train, y_train)"
      ],
      "execution_count": null,
      "outputs": [
        {
          "name": "stderr",
          "output_type": "stream",
          "text": [
            "/usr/local/lib/python3.7/dist-packages/sklearn/preprocessing/_label.py:235: DataConversionWarning: A column-vector y was passed when a 1d array was expected. Please change the shape of y to (n_samples, ), for example using ravel().\n",
            "  y = column_or_1d(y, warn=True)\n",
            "/usr/local/lib/python3.7/dist-packages/sklearn/preprocessing/_label.py:268: DataConversionWarning: A column-vector y was passed when a 1d array was expected. Please change the shape of y to (n_samples, ), for example using ravel().\n",
            "  y = column_or_1d(y, warn=True)\n"
          ]
        },
        {
          "data": {
            "text/plain": [
              "XGBClassifier(base_score=0.5, booster='gbtree', colsample_bylevel=1,\n",
              "              colsample_bynode=1, colsample_bytree=1, gamma=0,\n",
              "              learning_rate=0.1, max_delta_step=0, max_depth=17,\n",
              "              min_child_weight=1, missing=None, n_estimators=50, n_jobs=2,\n",
              "              nthread=None, objective='binary:logistic', random_state=0,\n",
              "              reg_alpha=0, reg_lambda=1, scale_pos_weight=1, seed=None,\n",
              "              silent=None, subsample=1, verbosity=1)"
            ]
          },
          "execution_count": 81,
          "metadata": {
            "tags": []
          },
          "output_type": "execute_result"
        }
      ]
    },
    {
      "cell_type": "code",
      "metadata": {
        "colab": {
          "base_uri": "https://localhost:8080/"
        },
        "id": "MUECi01rBikC",
        "outputId": "151992f0-e13c-4667-ed66-88d97c65c5df"
      },
      "source": [
        "print(\"Train Accuracy:\",classifier2.score(x_train, y_train))\n",
        "classifier2.score(x_train, y_train)"
      ],
      "execution_count": null,
      "outputs": [
        {
          "name": "stdout",
          "output_type": "stream",
          "text": [
            "Train Accuracy: 0.9985528219971056\n"
          ]
        },
        {
          "data": {
            "text/plain": [
              "0.9985528219971056"
            ]
          },
          "execution_count": 82,
          "metadata": {
            "tags": []
          },
          "output_type": "execute_result"
        }
      ]
    },
    {
      "cell_type": "code",
      "metadata": {
        "colab": {
          "base_uri": "https://localhost:8080/"
        },
        "id": "goU7L3cyBimn",
        "outputId": "ba0ae486-777a-4a4d-af35-11bada469c07"
      },
      "source": [
        "classifier2.score(x_test, y_test)"
      ],
      "execution_count": null,
      "outputs": [
        {
          "data": {
            "text/plain": [
              "0.8181818181818182"
            ]
          },
          "execution_count": 83,
          "metadata": {
            "tags": []
          },
          "output_type": "execute_result"
        }
      ]
    },
    {
      "cell_type": "code",
      "metadata": {
        "colab": {
          "base_uri": "https://localhost:8080/"
        },
        "id": "HhcbnsR0BiqG",
        "outputId": "be18c65e-7abc-4c20-ca4a-6b815bf0f1fc"
      },
      "source": [
        "preds = classifier2.predict(x_test)\n",
        "from sklearn.metrics import accuracy_score, r2_score\n",
        "print(\"Accuracy = {0:.3f}\".format(accuracy_score(y_test, preds)))"
      ],
      "execution_count": null,
      "outputs": [
        {
          "name": "stdout",
          "output_type": "stream",
          "text": [
            "Accuracy = 0.818\n"
          ]
        }
      ]
    },
    {
      "cell_type": "code",
      "metadata": {
        "colab": {
          "base_uri": "https://localhost:8080/"
        },
        "id": "f6xE8wVrBitY",
        "outputId": "f7d2f4f1-52f7-4326-d06e-ee2b7dbe89b3"
      },
      "source": [
        "print(\"R2 Score = {0:.3f}\".format(r2_score(y_test, preds)))"
      ],
      "execution_count": null,
      "outputs": [
        {
          "name": "stdout",
          "output_type": "stream",
          "text": [
            "R2 Score = 0.187\n"
          ]
        }
      ]
    },
    {
      "cell_type": "code",
      "metadata": {
        "id": "hHSx8Vz3BiwA"
      },
      "source": [
        "Y_pred = classifier2.predict(x_test)\n",
        "Y_pred = (Y_pred >0.5)"
      ],
      "execution_count": null,
      "outputs": []
    },
    {
      "cell_type": "code",
      "metadata": {
        "colab": {
          "base_uri": "https://localhost:8080/"
        },
        "id": "T54fqdCqB7fc",
        "outputId": "b921ab3e-d2b8-4a59-f023-ce58f6cddd4a"
      },
      "source": [
        "confusion = confusion_matrix(y_test,Y_pred)        ###Model evaluation\n",
        "precision = precision_score(y_test,Y_pred)\n",
        "recall = recall_score(y_test,Y_pred)\n",
        "F1 = f1_score(y_test,Y_pred)\n",
        "specificity = (confusion[0][0]/(confusion[0][0]+confusion[0][1]))\n",
        "print('confusion matrix {}'.format(confusion))\n",
        "print('precision is {}'.format(precision))\n",
        "print('recall is  {}'.format(recall))\n",
        "print('F1 score {}'.format(F1))\n",
        "print('specificity is {}'.format(specificity))"
      ],
      "execution_count": null,
      "outputs": [
        {
          "name": "stdout",
          "output_type": "stream",
          "text": [
            "confusion matrix [[44  7]\n",
            " [ 7 19]]\n",
            "precision is 0.7307692307692307\n",
            "recall is  0.7307692307692307\n",
            "F1 score 0.7307692307692306\n",
            "specificity is 0.8627450980392157\n"
          ]
        }
      ]
    },
    {
      "cell_type": "code",
      "metadata": {
        "colab": {
          "base_uri": "https://localhost:8080/",
          "height": 298
        },
        "id": "4dv5l3aOB7pC",
        "outputId": "24ccee99-2ccb-4b08-860b-f782d534c2df"
      },
      "source": [
        "Y_pred_proba = classifier2.predict(x_test)\n",
        "fpr, tpr, _ = roc_curve(y_test, Y_pred_proba)\n",
        "auc = roc_auc_score(y_test, Y_pred_proba)\n",
        "plt.plot(fpr,tpr,label=\"data 1, auc=\"+str(auc))\n",
        "plt.legend(loc=4)\n",
        "fig1 = plt.gcf()\n",
        "plt.title('XGB Classifier(After grid Search)', fontsize = 12)\n",
        "\n",
        "plt.show()\n",
        "plt.draw()\n",
        "fig1.savefig('Xgboost(after grid search).png', dpi=100)"
      ],
      "execution_count": null,
      "outputs": [
        {
          "data": {
            "image/png": "[encoded data removed]",
            "text/plain": [
              "<Figure size 432x288 with 1 Axes>"
            ]
          },
          "metadata": {
            "tags": []
          },
          "output_type": "display_data"
        },
        {
          "data": {
            "text/plain": [
              "<Figure size 432x288 with 0 Axes>"
            ]
          },
          "metadata": {
            "tags": []
          },
          "output_type": "display_data"
        }
      ]
    },
    {
      "cell_type": "code",
      "metadata": {
        "colab": {
          "base_uri": "https://localhost:8080/"
        },
        "id": "yFMAFIb7B7rx",
        "outputId": "5fd0cc8c-e634-4757-e516-443eb8f148d9"
      },
      "source": [
        "from sklearn.model_selection import cross_val_score\n",
        "score = cross_val_score(classifier2, x_train, y_train.ravel(), cv=10)\n",
        "print(score)"
      ],
      "execution_count": null,
      "outputs": [
        {
          "name": "stdout",
          "output_type": "stream",
          "text": [
            "[0.82857143 0.73913043 0.79710145 0.69565217 0.76811594 0.84057971\n",
            " 0.76811594 0.71014493 0.72463768 0.7826087 ]\n"
          ]
        }
      ]
    },
    {
      "cell_type": "code",
      "metadata": {
        "id": "4NjTo9HIB7vr"
      },
      "source": [
        ""
      ],
      "execution_count": null,
      "outputs": []
    },
    {
      "cell_type": "code",
      "metadata": {
        "id": "EWEdvjLjBizL"
      },
      "source": [
        ""
      ],
      "execution_count": null,
      "outputs": []
    },
    {
      "cell_type": "code",
      "metadata": {
        "id": "AfreCPAfPS6Y"
      },
      "source": [
        ""
      ],
      "execution_count": null,
      "outputs": []
    },
    {
      "cell_type": "code",
      "metadata": {
        "id": "8E6zSUoVT1QQ"
      },
      "source": [
        "#neural networks"
      ],
      "execution_count": null,
      "outputs": []
    },
    {
      "cell_type": "code",
      "metadata": {
        "id": "yMUEpTvQZBOj"
      },
      "source": [
        "from tensorflow.keras.layers import Dense,Dropout,Flatten\n",
        "from tensorflow.keras.layers import MaxPooling2D,GlobalAveragePooling2D,BatchNormalization,Activation\n",
        "from tensorflow import keras\n",
        "import tensorflow as tf"
      ],
      "execution_count": null,
      "outputs": []
    },
    {
      "cell_type": "code",
      "metadata": {
        "colab": {
          "base_uri": "https://localhost:8080/"
        },
        "id": "4zux2cQjZBZf",
        "outputId": "87836fa9-635f-4292-b36e-8724fafd5ed9"
      },
      "source": [
        "model = tf.keras.Sequential()\n",
        "model.add(Dense(1024, input_dim=8, activation= \"relu\"))\n",
        "model.add(Dropout(0.3))\n",
        "model.add(Dense(512, activation= \"relu\"))\n",
        "model.add(Dropout(0.4))\n",
        "model.add(Dense(128, activation= \"relu\"))\n",
        "model.add(Dropout(0.2))\n",
        "model.add(Dense(32, activation= \"relu\"))\n",
        "model.add(Dropout(0.2))\n",
        "model.add(Dense(1))\n",
        "model.summary() #Print model Summary"
      ],
      "execution_count": null,
      "outputs": [
        {
          "name": "stdout",
          "output_type": "stream",
          "text": [
            "Model: \"sequential\"\n",
            "_________________________________________________________________\n",
            "Layer (type)                 Output Shape              Param #   \n",
            "=================================================================\n",
            "dense (Dense)                (None, 1024)              9216      \n",
            "_________________________________________________________________\n",
            "dropout (Dropout)            (None, 1024)              0         \n",
            "_________________________________________________________________\n",
            "dense_1 (Dense)              (None, 512)               524800    \n",
            "_________________________________________________________________\n",
            "dropout_1 (Dropout)          (None, 512)               0         \n",
            "_________________________________________________________________\n",
            "dense_2 (Dense)              (None, 128)               65664     \n",
            "_________________________________________________________________\n",
            "dropout_2 (Dropout)          (None, 128)               0         \n",
            "_________________________________________________________________\n",
            "dense_3 (Dense)              (None, 32)                4128      \n",
            "_________________________________________________________________\n",
            "dropout_3 (Dropout)          (None, 32)                0         \n",
            "_________________________________________________________________\n",
            "dense_4 (Dense)              (None, 1)                 33        \n",
            "=================================================================\n",
            "Total params: 603,841\n",
            "Trainable params: 603,841\n",
            "Non-trainable params: 0\n",
            "_________________________________________________________________\n"
          ]
        }
      ]
    },
    {
      "cell_type": "code",
      "metadata": {
        "colab": {
          "base_uri": "https://localhost:8080/"
        },
        "id": "aLnc9a4fZBdT",
        "outputId": "f9eb118d-266d-4710-b7f4-71dbb0952ee9"
      },
      "source": [
        "model.compile(loss= \"binary_crossentropy\" , optimizer=\"Adam\", metrics=[\"accuracy\"])\n",
        "Performance = model.fit(x_train, y_train, validation_split =0.2,epochs=50, batch_size = 20)"
      ],
      "execution_count": null,
      "outputs": [
        {
          "name": "stdout",
          "output_type": "stream",
          "text": [
            "Epoch 1/50\n",
            "28/28 [==============================] - 1s 12ms/step - loss: 1.6411 - accuracy: 0.6739 - val_loss: 0.8304 - val_accuracy: 0.7266\n",
            "Epoch 2/50\n",
            "28/28 [==============================] - 0s 7ms/step - loss: 0.7169 - accuracy: 0.7373 - val_loss: 0.6245 - val_accuracy: 0.7482\n",
            "Epoch 3/50\n",
            "28/28 [==============================] - 0s 7ms/step - loss: 0.6420 - accuracy: 0.7138 - val_loss: 0.7694 - val_accuracy: 0.7770\n",
            "Epoch 4/50\n",
            "28/28 [==============================] - 0s 6ms/step - loss: 0.7182 - accuracy: 0.7029 - val_loss: 0.5531 - val_accuracy: 0.7050\n",
            "Epoch 5/50\n",
            "28/28 [==============================] - 0s 7ms/step - loss: 0.7737 - accuracy: 0.7283 - val_loss: 0.7848 - val_accuracy: 0.7194\n",
            "Epoch 6/50\n",
            "28/28 [==============================] - 0s 6ms/step - loss: 0.8087 - accuracy: 0.7228 - val_loss: 0.8076 - val_accuracy: 0.7626\n",
            "Epoch 7/50\n",
            "28/28 [==============================] - 0s 6ms/step - loss: 0.6593 - accuracy: 0.7482 - val_loss: 0.5770 - val_accuracy: 0.7554\n",
            "Epoch 8/50\n",
            "28/28 [==============================] - 0s 7ms/step - loss: 0.8049 - accuracy: 0.7228 - val_loss: 0.6517 - val_accuracy: 0.7770\n",
            "Epoch 9/50\n",
            "28/28 [==============================] - 0s 6ms/step - loss: 0.6582 - accuracy: 0.7319 - val_loss: 0.6654 - val_accuracy: 0.7770\n",
            "Epoch 10/50\n",
            "28/28 [==============================] - 0s 6ms/step - loss: 0.6993 - accuracy: 0.7572 - val_loss: 0.6341 - val_accuracy: 0.7914\n",
            "Epoch 11/50\n",
            "28/28 [==============================] - 0s 6ms/step - loss: 0.5318 - accuracy: 0.7591 - val_loss: 0.8315 - val_accuracy: 0.7914\n",
            "Epoch 12/50\n",
            "28/28 [==============================] - 0s 7ms/step - loss: 0.7556 - accuracy: 0.7554 - val_loss: 0.8710 - val_accuracy: 0.7554\n",
            "Epoch 13/50\n",
            "28/28 [==============================] - 0s 7ms/step - loss: 0.7187 - accuracy: 0.7591 - val_loss: 0.5710 - val_accuracy: 0.7626\n",
            "Epoch 14/50\n",
            "28/28 [==============================] - 0s 7ms/step - loss: 0.8163 - accuracy: 0.7717 - val_loss: 0.9487 - val_accuracy: 0.7698\n",
            "Epoch 15/50\n",
            "28/28 [==============================] - 0s 7ms/step - loss: 0.8184 - accuracy: 0.7156 - val_loss: 0.6136 - val_accuracy: 0.7554\n",
            "Epoch 16/50\n",
            "28/28 [==============================] - 0s 7ms/step - loss: 0.6633 - accuracy: 0.7645 - val_loss: 0.7749 - val_accuracy: 0.7698\n",
            "Epoch 17/50\n",
            "28/28 [==============================] - 0s 7ms/step - loss: 0.5721 - accuracy: 0.7627 - val_loss: 0.8713 - val_accuracy: 0.7626\n",
            "Epoch 18/50\n",
            "28/28 [==============================] - 0s 7ms/step - loss: 0.6224 - accuracy: 0.7699 - val_loss: 0.7804 - val_accuracy: 0.7698\n",
            "Epoch 19/50\n",
            "28/28 [==============================] - 0s 6ms/step - loss: 0.5626 - accuracy: 0.7736 - val_loss: 0.7492 - val_accuracy: 0.7626\n",
            "Epoch 20/50\n",
            "28/28 [==============================] - 0s 6ms/step - loss: 0.5440 - accuracy: 0.7717 - val_loss: 0.7555 - val_accuracy: 0.7554\n",
            "Epoch 21/50\n",
            "28/28 [==============================] - 0s 7ms/step - loss: 0.5701 - accuracy: 0.7681 - val_loss: 0.6547 - val_accuracy: 0.7554\n",
            "Epoch 22/50\n",
            "28/28 [==============================] - 0s 7ms/step - loss: 0.5606 - accuracy: 0.7699 - val_loss: 0.6918 - val_accuracy: 0.7770\n",
            "Epoch 23/50\n",
            "28/28 [==============================] - 0s 7ms/step - loss: 0.5814 - accuracy: 0.7609 - val_loss: 0.6814 - val_accuracy: 0.7554\n",
            "Epoch 24/50\n",
            "28/28 [==============================] - 0s 6ms/step - loss: 0.5335 - accuracy: 0.7717 - val_loss: 0.7527 - val_accuracy: 0.7770\n",
            "Epoch 25/50\n",
            "28/28 [==============================] - 0s 7ms/step - loss: 0.6005 - accuracy: 0.7808 - val_loss: 0.6649 - val_accuracy: 0.7770\n",
            "Epoch 26/50\n",
            "28/28 [==============================] - 0s 7ms/step - loss: 0.5302 - accuracy: 0.7790 - val_loss: 0.7060 - val_accuracy: 0.7410\n",
            "Epoch 27/50\n",
            "28/28 [==============================] - 0s 7ms/step - loss: 0.5360 - accuracy: 0.7464 - val_loss: 0.6283 - val_accuracy: 0.7842\n",
            "Epoch 28/50\n",
            "28/28 [==============================] - 0s 7ms/step - loss: 0.5753 - accuracy: 0.7554 - val_loss: 0.6980 - val_accuracy: 0.7266\n",
            "Epoch 29/50\n",
            "28/28 [==============================] - 0s 7ms/step - loss: 0.5152 - accuracy: 0.7391 - val_loss: 0.7437 - val_accuracy: 0.7770\n",
            "Epoch 30/50\n",
            "28/28 [==============================] - 0s 7ms/step - loss: 0.5272 - accuracy: 0.7736 - val_loss: 0.7527 - val_accuracy: 0.7482\n",
            "Epoch 31/50\n",
            "28/28 [==============================] - 0s 7ms/step - loss: 0.6034 - accuracy: 0.7500 - val_loss: 0.6682 - val_accuracy: 0.7482\n",
            "Epoch 32/50\n",
            "28/28 [==============================] - 0s 6ms/step - loss: 0.4833 - accuracy: 0.7663 - val_loss: 0.7195 - val_accuracy: 0.7698\n",
            "Epoch 33/50\n",
            "28/28 [==============================] - 0s 6ms/step - loss: 0.5410 - accuracy: 0.7699 - val_loss: 0.8265 - val_accuracy: 0.7770\n",
            "Epoch 34/50\n",
            "28/28 [==============================] - 0s 6ms/step - loss: 0.5569 - accuracy: 0.7446 - val_loss: 0.7700 - val_accuracy: 0.7626\n",
            "Epoch 35/50\n",
            "28/28 [==============================] - 0s 7ms/step - loss: 0.5755 - accuracy: 0.7772 - val_loss: 0.7288 - val_accuracy: 0.7338\n",
            "Epoch 36/50\n",
            "28/28 [==============================] - 0s 7ms/step - loss: 0.5962 - accuracy: 0.7337 - val_loss: 0.6774 - val_accuracy: 0.7482\n",
            "Epoch 37/50\n",
            "28/28 [==============================] - 0s 6ms/step - loss: 0.4872 - accuracy: 0.7627 - val_loss: 0.7545 - val_accuracy: 0.7626\n",
            "Epoch 38/50\n",
            "28/28 [==============================] - 0s 7ms/step - loss: 0.6412 - accuracy: 0.7754 - val_loss: 0.7499 - val_accuracy: 0.7266\n",
            "Epoch 39/50\n",
            "28/28 [==============================] - 0s 7ms/step - loss: 0.4892 - accuracy: 0.7844 - val_loss: 0.6673 - val_accuracy: 0.7626\n",
            "Epoch 40/50\n",
            "28/28 [==============================] - 0s 7ms/step - loss: 0.5609 - accuracy: 0.7808 - val_loss: 0.7607 - val_accuracy: 0.7482\n",
            "Epoch 41/50\n",
            "28/28 [==============================] - 0s 7ms/step - loss: 0.5056 - accuracy: 0.7880 - val_loss: 0.6458 - val_accuracy: 0.7554\n",
            "Epoch 42/50\n",
            "28/28 [==============================] - 0s 7ms/step - loss: 0.5591 - accuracy: 0.7428 - val_loss: 0.7214 - val_accuracy: 0.7122\n",
            "Epoch 43/50\n",
            "28/28 [==============================] - 0s 7ms/step - loss: 0.5202 - accuracy: 0.7482 - val_loss: 0.7373 - val_accuracy: 0.7626\n",
            "Epoch 44/50\n",
            "28/28 [==============================] - 0s 7ms/step - loss: 0.5120 - accuracy: 0.7645 - val_loss: 0.6413 - val_accuracy: 0.7698\n",
            "Epoch 45/50\n",
            "28/28 [==============================] - 0s 6ms/step - loss: 0.5119 - accuracy: 0.7591 - val_loss: 0.7129 - val_accuracy: 0.7698\n",
            "Epoch 46/50\n",
            "28/28 [==============================] - 0s 6ms/step - loss: 0.4873 - accuracy: 0.7500 - val_loss: 0.7291 - val_accuracy: 0.7698\n",
            "Epoch 47/50\n",
            "28/28 [==============================] - 0s 7ms/step - loss: 0.6277 - accuracy: 0.7754 - val_loss: 0.6584 - val_accuracy: 0.7554\n",
            "Epoch 48/50\n",
            "28/28 [==============================] - 0s 7ms/step - loss: 0.5763 - accuracy: 0.7754 - val_loss: 0.7727 - val_accuracy: 0.7338\n",
            "Epoch 49/50\n",
            "28/28 [==============================] - 0s 7ms/step - loss: 0.5092 - accuracy: 0.7554 - val_loss: 0.6669 - val_accuracy: 0.7554\n",
            "Epoch 50/50\n",
            "28/28 [==============================] - 0s 6ms/step - loss: 0.5043 - accuracy: 0.7844 - val_loss: 0.7544 - val_accuracy: 0.7554\n"
          ]
        }
      ]
    },
    {
      "cell_type": "code",
      "metadata": {
        "colab": {
          "base_uri": "https://localhost:8080/"
        },
        "id": "IXM3MghgZBgC",
        "outputId": "9f588b79-087a-4ccd-afef-b3fee85697e7"
      },
      "source": [
        "score = model.evaluate(x_test,y_test,verbose = 1)\n",
        "score[1]"
      ],
      "execution_count": null,
      "outputs": [
        {
          "name": "stdout",
          "output_type": "stream",
          "text": [
            "3/3 [==============================] - 0s 4ms/step - loss: 1.1024 - accuracy: 0.8182\n"
          ]
        },
        {
          "data": {
            "text/plain": [
              "0.8181818127632141"
            ]
          },
          "execution_count": 94,
          "metadata": {
            "tags": []
          },
          "output_type": "execute_result"
        }
      ]
    },
    {
      "cell_type": "code",
      "metadata": {
        "colab": {
          "base_uri": "https://localhost:8080/",
          "height": 356
        },
        "id": "2XH_Zq0aZPea",
        "outputId": "a79bb90d-afdc-4802-a919-675fe9e3d4ce"
      },
      "source": [
        "my_dpi = 50 # dots per inch .. (resolution)\n",
        "plt.figure(figsize=(400/my_dpi, 400/my_dpi), dpi = my_dpi)\n",
        "plt.plot(Performance.history['accuracy'], label='train accuracy')\n",
        "plt.plot(Performance.history['val_accuracy'], label='val accuracy')\n",
        "plt.legend()\n",
        "plt.show()\n",
        "plt.savefig('AccVal_acc')"
      ],
      "execution_count": null,
      "outputs": [
        {
          "data": {
            "image/png": "[encoded data removed]",
            "text/plain": [
              "<Figure size 400x400 with 1 Axes>"
            ]
          },
          "metadata": {
            "tags": []
          },
          "output_type": "display_data"
        },
        {
          "data": {
            "text/plain": [
              "<Figure size 432x288 with 0 Axes>"
            ]
          },
          "metadata": {
            "tags": []
          },
          "output_type": "display_data"
        }
      ]
    },
    {
      "cell_type": "code",
      "metadata": {
        "colab": {
          "base_uri": "https://localhost:8080/",
          "height": 282
        },
        "id": "4CnWHrVKZPhG",
        "outputId": "527cc234-c6ab-4f0e-faca-878fc933b209"
      },
      "source": [
        "from sklearn.metrics import accuracy_score, f1_score,confusion_matrix\n",
        "y_pred_ann=model.predict(x_test)\n",
        "y_pred_ann=(y_pred_ann>0.5)\n",
        "acc_ann=accuracy_score(y_test,y_pred_ann)\n",
        "\n",
        "f1_score_ann=f1_score(y_test,y_pred_ann)\n",
        "plt.figure(figsize=(3,3))\n",
        "crr_NN=confusion_matrix(y_test,y_pred_ann)\n",
        "sns.heatmap(crr_NN,annot=True)\n",
        "plt.plot()\n",
        "print(\"\\nAccuracy Score: %{:.2f} \\nF1 Score: %{:.2f}\\n\".format(acc_ann*100,f1_score_ann*100))"
      ],
      "execution_count": null,
      "outputs": [
        {
          "name": "stdout",
          "output_type": "stream",
          "text": [
            "\n",
            "Accuracy Score: %81.82 \n",
            "F1 Score: %70.83\n",
            "\n"
          ]
        },
        {
          "data": {
            "image/png": "[encoded data removed]",
            "text/plain": [
              "<Figure size 216x216 with 2 Axes>"
            ]
          },
          "metadata": {
            "tags": []
          },
          "output_type": "display_data"
        }
      ]
    },
    {
      "cell_type": "code",
      "metadata": {
        "colab": {
          "base_uri": "https://localhost:8080/",
          "height": 294
        },
        "id": "yZeNSTumZPk3",
        "outputId": "456f331d-665a-4674-81fc-0f4717c159bd"
      },
      "source": [
        "import matplotlib.pyplot as plt                             ###plot loss on train and val data\n",
        "plt.plot(Performance.history['loss'])\n",
        "plt.plot(Performance.history['val_loss'])\n",
        "plt.title('Model Loss Plot')\n",
        "plt.xlabel('Epochs')\n",
        "plt.ylabel('Loss')\n",
        "plt.legend(['Train', 'Test'],loc = 'upper right')\n",
        "plt.show()"
      ],
      "execution_count": null,
      "outputs": [
        {
          "data": {
            "image/png": "[encoded data removed]",
            "text/plain": [
              "<Figure size 432x288 with 1 Axes>"
            ]
          },
          "metadata": {
            "tags": []
          },
          "output_type": "display_data"
        }
      ]
    },
    {
      "cell_type": "code",
      "metadata": {
        "id": "17-yWvD2ZPos"
      },
      "source": [
        "model.save('Performance.hdf5')"
      ],
      "execution_count": null,
      "outputs": []
    },
    {
      "cell_type": "code",
      "metadata": {
        "id": "GTf9sIjVZPrF"
      },
      "source": [
        "from sklearn.metrics import precision_score, recall_score, f1_score, confusion_matrix, roc_curve, roc_auc_score\n",
        "import matplotlib.pyplot as plt\n",
        "Y_pred = model.predict(x_test)\n",
        "Y_pred = (Y_pred >0.5)"
      ],
      "execution_count": null,
      "outputs": []
    },
    {
      "cell_type": "code",
      "metadata": {
        "colab": {
          "base_uri": "https://localhost:8080/"
        },
        "id": "L_f5O_GpZPt4",
        "outputId": "204ca692-2d03-4720-a5d4-6ac28f9575f9"
      },
      "source": [
        "confusion = confusion_matrix(y_test,Y_pred)        ###Model evaluation\n",
        "precision = precision_score(y_test,Y_pred)\n",
        "recall = recall_score(y_test,Y_pred)\n",
        "F1 = f1_score(y_test,Y_pred)\n",
        "specificity = (confusion[0][0]/(confusion[0][0]+confusion[0][1]))\n",
        "print('confusion matrix {}'.format(confusion))\n",
        "print('precision is {}'.format(precision))\n",
        "print('recall is  {}'.format(recall))\n",
        "print('F1 score {}'.format(F1))\n",
        "print('specificity is {}'.format(specificity))"
      ],
      "execution_count": null,
      "outputs": [
        {
          "name": "stdout",
          "output_type": "stream",
          "text": [
            "confusion matrix [[46  5]\n",
            " [ 9 17]]\n",
            "precision is 0.7727272727272727\n",
            "recall is  0.6538461538461539\n",
            "F1 score 0.7083333333333333\n",
            "specificity is 0.9019607843137255\n"
          ]
        }
      ]
    },
    {
      "cell_type": "code",
      "metadata": {
        "colab": {
          "base_uri": "https://localhost:8080/",
          "height": 264
        },
        "id": "UVyXL4_iZBkn",
        "outputId": "7716c14f-6614-4c14-d2dc-fa36e2fc49da"
      },
      "source": [
        "Y_pred_proba = model.predict(x_test)\n",
        "fpr, tpr, _ = roc_curve(y_test, Y_pred_proba)\n",
        "auc = roc_auc_score(y_test, Y_pred_proba)\n",
        "plt.plot(fpr,tpr,label=\"data 1, auc=\"+str(auc))\n",
        "plt.legend(loc=4)\n",
        "plt.show()"
      ],
      "execution_count": null,
      "outputs": [
        {
          "data": {
            "image/png": "[encoded data removed]",
            "text/plain": [
              "<Figure size 432x288 with 1 Axes>"
            ]
          },
          "metadata": {
            "tags": []
          },
          "output_type": "display_data"
        }
      ]
    },
    {
      "cell_type": "code",
      "metadata": {
        "colab": {
          "base_uri": "https://localhost:8080/"
        },
        "id": "wWC3XTySZBr3",
        "outputId": "4d6a8a97-a4a0-4229-b852-b364b15cdb1f"
      },
      "source": [
        "from sklearn.model_selection import KFold\n",
        "from sklearn.metrics import roc_curve\n",
        "from sklearn.metrics import auc\n",
        "kf = KFold(n_splits=10, shuffle=True, random_state=42069)\n",
        "preds = []\n",
        "fold = 0\n",
        "aucs = 0\n",
        "for train_idx, val_idx in kf.split(x_train):\n",
        "    x_train_f = x_train[train_idx]\n",
        "    y_train_f = y_train[train_idx]\n",
        "    x_val_f = x_train[val_idx]\n",
        "    y_val_f = y_train[val_idx]\n",
        "    model.fit(x_train_f, y_train_f,\n",
        "              batch_size=256,\n",
        "              epochs=10,\n",
        "              verbose = 0,\n",
        "              validation_data=(x_val_f, y_val_f))\n",
        "    # Get accuracy of model on validation data. It's not AUC but it's something at least!\n",
        "    preds_val = model.predict([x_val_f], batch_size=256)\n",
        "    preds.append(model.predict(x_test))\n",
        "    fold = fold + 1\n",
        "    fpr, tpr, thresholds = roc_curve(y_val_f, preds_val, pos_label=0)\n",
        "    aucs = aucs + auc(fpr, tpr)\n",
        "    fpr, tpr, thresholds = roc_curve(y_val_f, preds_val, pos_label=1)\n",
        "    aucs += auc(fpr,tpr)\n",
        "    print('Fold {}, AUC = {}'.format(fold,auc(fpr, tpr)))\n",
        "print(\"Cross Validation AUC = {}\".format(aucs/10))   "
      ],
      "execution_count": null,
      "outputs": [
        {
          "name": "stdout",
          "output_type": "stream",
          "text": [
            "Fold 1, AUC = 0.864795918367347\n",
            "Fold 2, AUC = 0.8723404255319149\n",
            "Fold 3, AUC = 0.8617021276595743\n",
            "Fold 4, AUC = 0.9119922630560928\n",
            "Fold 5, AUC = 0.9398954703832753\n",
            "Fold 6, AUC = 0.8747795414462081\n",
            "Fold 7, AUC = 0.89198606271777\n",
            "Fold 8, AUC = 0.9057539682539681\n",
            "Fold 9, AUC = 0.941972920696325\n",
            "Fold 10, AUC = 0.9168278529980658\n",
            "Cross Validation AUC = 0.9999999999999998\n"
          ]
        }
      ]
    },
    {
      "cell_type": "code",
      "metadata": {
        "id": "6cUSbwb5Ywcs"
      },
      "source": [
        "from keras.models import Sequential\n",
        "from keras.layers import Embedding\n",
        "from keras.layers import LSTM, Bidirectional, Conv1D\n",
        "from keras.layers import MaxPooling1D\n",
        "from keras.layers import Flatten\n",
        "from keras.layers import Dense \n",
        "from keras.layers import Dropout\n",
        "from keras.callbacks import ModelCheckpoint\n",
        "import tensorflow as tf\n",
        "from sklearn.model_selection import GridSearchCV\n",
        "from keras.wrappers.scikit_learn import KerasClassifier"
      ],
      "execution_count": null,
      "outputs": []
    },
    {
      "cell_type": "code",
      "metadata": {
        "id": "qszGZatUY1t1"
      },
      "source": [
        "from keras.layers import Layer\n",
        "import keras.backend as K\n",
        "class attention(Layer):\n",
        "    def __init__(self,**kwargs):\n",
        "        super(attention,self).__init__(**kwargs)\n",
        "\n",
        "    def build(self,input_shape):\n",
        "        self.W=self.add_weight(name=\"att_weight\",shape=(input_shape[-1],1),initializer=\"normal\")\n",
        "        self.b=self.add_weight(name=\"att_bias\",shape=(input_shape[1],1),initializer=\"zeros\")        \n",
        "        super(attention, self).build(input_shape)\n",
        "\n",
        "    def call(self,x):\n",
        "        et=K.squeeze(K.tanh(K.dot(x,self.W)+self.b),axis=-1)\n",
        "        at=K.softmax(et)\n",
        "        at=K.expand_dims(at,axis=-1)\n",
        "        output=x*at\n",
        "        return K.sum(output,axis=1)\n",
        "\n",
        "    def compute_output_shape(self,input_shape):\n",
        "        return (input_shape[0],input_shape[-1])\n",
        "\n",
        "    def get_config(self):\n",
        "        return super(attention,self).get_config()"
      ],
      "execution_count": null,
      "outputs": []
    },
    {
      "cell_type": "code",
      "metadata": {
        "id": "Z0dy4pRuZxkr"
      },
      "source": [
        "def model_create(optimizer = 'Adam',\n",
        "                 dropout_rate = 0.2,units = 128,neurons = 20):\n",
        "    model = tf.keras.Sequential()\n",
        "    model = tf.keras.Sequential()\n",
        "    model.add(Dense(1024, input_dim=8, activation= \"relu\"))\n",
        "    model.add(Dropout(0.3))\n",
        "    model.add(Dense(512, activation= \"relu\"))\n",
        "    model.add(Dropout(0.3))\n",
        "    model.add(Dense(128, activation= \"relu\"))\n",
        "    model.add(Dropout(0.3))\n",
        "    model.add(Dense(32, activation= \"relu\"))\n",
        "    model.add(Dropout(0.3))\n",
        "    model.add(Dense(1))\n",
        "    model.compile(optimizer = optimizer, loss = 'binary_crossentropy', metrics = ['accuracy'])    \n",
        "    return model"
      ],
      "execution_count": null,
      "outputs": []
    },
    {
      "cell_type": "code",
      "metadata": {
        "id": "jPfAmFP6RhfR"
      },
      "source": [
        "param_grid = {\n",
        "    'dropout_rate':[0.1,0.2,0.3,0.4,0.5]\n",
        "}                                                             ####perform grid search to find the hyperparameters\n",
        "\n",
        "model = KerasClassifier(build_fn = model_create, verbose = 2)\n",
        "grid_search = GridSearchCV(estimator = model, param_grid = param_grid, verbose = 2)\n",
        "grid_results = grid_search.fit(x_train, y_train, epochs = 10)\n",
        "print('Best accuracy: ', grid_results.best_score_)\n",
        "print('Best parameters: ', grid_results.best_params_)"
      ],
      "execution_count": null,
      "outputs": []
    },
    {
      "cell_type": "code",
      "metadata": {
        "id": "JOEyDKa1SS-J"
      },
      "source": [
        "param_grid = {\n",
        "    'batch_size':[8,16,32,64]\n",
        "}                                                             ####perform grid search to find the hyperparameters\n",
        "\n",
        "model = KerasClassifier(build_fn = model_create, verbose = 2)\n",
        "grid_search = GridSearchCV(estimator = model, param_grid = param_grid, verbose = 2, cv=2)\n",
        "grid_results = grid_search.fit(x_train, y_train, epochs = 10)\n",
        "print('Best accuracy: ', grid_results.best_score_)\n",
        "print('Best parameters: ', grid_results.best_params_)"
      ],
      "execution_count": null,
      "outputs": []
    },
    {
      "cell_type": "code",
      "metadata": {
        "id": "hPtCrkPHTrgF"
      },
      "source": [
        "param_grid = {\n",
        "    'neurons':[20,30,40,50,60]\n",
        "\n",
        "}                                                             ####perform grid search to find the hyperparameters\n",
        "\n",
        "model = KerasClassifier(build_fn = model_create, verbose = 2)\n",
        "grid_search = GridSearchCV(estimator = model, param_grid = param_grid, verbose = 2)\n",
        "grid_results = grid_search.fit(x_train, y_train, epochs = 10)\n",
        "print('Best accuracy: ', grid_results.best_score_)\n",
        "print('Best parameters: ', grid_results.best_params_)"
      ],
      "execution_count": null,
      "outputs": []
    },
    {
      "cell_type": "code",
      "metadata": {
        "id": "xpvrtwTNUBl0"
      },
      "source": [
        "#models with optimised parameter"
      ],
      "execution_count": null,
      "outputs": []
    },
    {
      "cell_type": "code",
      "metadata": {
        "id": "WphYscZZUlOt"
      },
      "source": [
        "from tensorflow.keras.layers import Dense,Dropout,Flatten\n",
        "from tensorflow.keras.layers import MaxPooling2D,GlobalAveragePooling2D,BatchNormalization,Activation\n",
        "from tensorflow import keras\n",
        "import tensorflow as tf"
      ],
      "execution_count": null,
      "outputs": []
    },
    {
      "cell_type": "code",
      "metadata": {
        "colab": {
          "base_uri": "https://localhost:8080/"
        },
        "id": "MTUpvfw9W1HG",
        "outputId": "97700a69-9425-47e4-9186-bfb891db758c"
      },
      "source": [
        "model = tf.keras.Sequential()\n",
        "model.add(Dense(2048, input_dim=8, activation= \"relu\"))\n",
        "model.add(Dropout(0.3))\n",
        "model.add(Dense(1024, activation= \"relu\"))\n",
        "model.add(Dropout(0.4))\n",
        "model.add(Dense(512, activation= \"relu\"))\n",
        "model.add(Dropout(0.2))\n",
        "model.add(Dense(256, activation= \"relu\"))\n",
        "model.add(Dropout(0.2))\n",
        "model.add(Dense(1, activation = \"sigmoid\"))\n",
        "model.summary() #Print model Summary"
      ],
      "execution_count": null,
      "outputs": [
        {
          "output_type": "stream",
          "name": "stdout",
          "text": [
            "Model: \"sequential_2\"\n",
            "_________________________________________________________________\n",
            " Layer (type)                Output Shape              Param #   \n",
            "=================================================================\n",
            " dense_10 (Dense)            (None, 2048)              18432     \n",
            "                                                                 \n",
            " dropout_8 (Dropout)         (None, 2048)              0         \n",
            "                                                                 \n",
            " dense_11 (Dense)            (None, 1024)              2098176   \n",
            "                                                                 \n",
            " dropout_9 (Dropout)         (None, 1024)              0         \n",
            "                                                                 \n",
            " dense_12 (Dense)            (None, 512)               524800    \n",
            "                                                                 \n",
            " dropout_10 (Dropout)        (None, 512)               0         \n",
            "                                                                 \n",
            " dense_13 (Dense)            (None, 256)               131328    \n",
            "                                                                 \n",
            " dropout_11 (Dropout)        (None, 256)               0         \n",
            "                                                                 \n",
            " dense_14 (Dense)            (None, 1)                 257       \n",
            "                                                                 \n",
            "=================================================================\n",
            "Total params: 2,772,993\n",
            "Trainable params: 2,772,993\n",
            "Non-trainable params: 0\n",
            "_________________________________________________________________\n"
          ]
        }
      ]
    },
    {
      "cell_type": "code",
      "metadata": {
        "id": "R2thUPS7W1JB"
      },
      "source": [
        "model.compile(loss= \"binary_crossentropy\" , optimizer=\"SGD\", metrics=[\"accuracy\"])"
      ],
      "execution_count": null,
      "outputs": []
    },
    {
      "cell_type": "code",
      "metadata": {
        "colab": {
          "base_uri": "https://localhost:8080/"
        },
        "id": "471e-_nBW1L7",
        "outputId": "209448e4-40b4-4c79-9afb-3ee7526113f2"
      },
      "source": [
        "Performance1 = model.fit(x_train, y_train, validation_split =0.2,epochs=50, batch_size = 10)"
      ],
      "execution_count": null,
      "outputs": [
        {
          "output_type": "stream",
          "name": "stdout",
          "text": [
            "Epoch 1/50\n",
            "56/56 [==============================] - 3s 32ms/step - loss: 0.6714 - accuracy: 0.6232 - val_loss: 0.6374 - val_accuracy: 0.6906\n",
            "Epoch 2/50\n",
            "56/56 [==============================] - 2s 31ms/step - loss: 0.6425 - accuracy: 0.6431 - val_loss: 0.6037 - val_accuracy: 0.6906\n",
            "Epoch 3/50\n",
            "56/56 [==============================] - 2s 30ms/step - loss: 0.6220 - accuracy: 0.6395 - val_loss: 0.5754 - val_accuracy: 0.7122\n",
            "Epoch 4/50\n",
            "56/56 [==============================] - 1s 25ms/step - loss: 0.5977 - accuracy: 0.6576 - val_loss: 0.5471 - val_accuracy: 0.7482\n",
            "Epoch 5/50\n",
            "56/56 [==============================] - 2s 31ms/step - loss: 0.5674 - accuracy: 0.6938 - val_loss: 0.5251 - val_accuracy: 0.7554\n",
            "Epoch 6/50\n",
            "56/56 [==============================] - 2s 32ms/step - loss: 0.5489 - accuracy: 0.7192 - val_loss: 0.5066 - val_accuracy: 0.7482\n",
            "Epoch 7/50\n",
            "56/56 [==============================] - 2s 32ms/step - loss: 0.5251 - accuracy: 0.7464 - val_loss: 0.4967 - val_accuracy: 0.7338\n",
            "Epoch 8/50\n",
            "56/56 [==============================] - 2s 32ms/step - loss: 0.5005 - accuracy: 0.7699 - val_loss: 0.4926 - val_accuracy: 0.7410\n",
            "Epoch 9/50\n",
            "56/56 [==============================] - 2s 32ms/step - loss: 0.4936 - accuracy: 0.7554 - val_loss: 0.4885 - val_accuracy: 0.7410\n",
            "Epoch 10/50\n",
            "56/56 [==============================] - 2s 31ms/step - loss: 0.4785 - accuracy: 0.7663 - val_loss: 0.4906 - val_accuracy: 0.7410\n",
            "Epoch 11/50\n",
            "56/56 [==============================] - 1s 25ms/step - loss: 0.4720 - accuracy: 0.7591 - val_loss: 0.4926 - val_accuracy: 0.7410\n",
            "Epoch 12/50\n",
            "56/56 [==============================] - 1s 25ms/step - loss: 0.4764 - accuracy: 0.7609 - val_loss: 0.4942 - val_accuracy: 0.7410\n",
            "Epoch 13/50\n",
            "56/56 [==============================] - 1s 25ms/step - loss: 0.4738 - accuracy: 0.7645 - val_loss: 0.4958 - val_accuracy: 0.7482\n",
            "Epoch 14/50\n",
            "56/56 [==============================] - 2s 31ms/step - loss: 0.4652 - accuracy: 0.7572 - val_loss: 0.4974 - val_accuracy: 0.7554\n",
            "Epoch 15/50\n",
            "56/56 [==============================] - 2s 30ms/step - loss: 0.4639 - accuracy: 0.7754 - val_loss: 0.4973 - val_accuracy: 0.7554\n",
            "Epoch 16/50\n",
            "56/56 [==============================] - 1s 25ms/step - loss: 0.4593 - accuracy: 0.7663 - val_loss: 0.4978 - val_accuracy: 0.7554\n",
            "Epoch 17/50\n",
            "56/56 [==============================] - 1s 25ms/step - loss: 0.4555 - accuracy: 0.7681 - val_loss: 0.4995 - val_accuracy: 0.7554\n",
            "Epoch 18/50\n",
            "56/56 [==============================] - 2s 30ms/step - loss: 0.4506 - accuracy: 0.7808 - val_loss: 0.4994 - val_accuracy: 0.7770\n",
            "Epoch 19/50\n",
            "56/56 [==============================] - 2s 30ms/step - loss: 0.4539 - accuracy: 0.7790 - val_loss: 0.5006 - val_accuracy: 0.7698\n",
            "Epoch 20/50\n",
            "56/56 [==============================] - 2s 31ms/step - loss: 0.4499 - accuracy: 0.7880 - val_loss: 0.5022 - val_accuracy: 0.7698\n",
            "Epoch 21/50\n",
            "56/56 [==============================] - 2s 30ms/step - loss: 0.4417 - accuracy: 0.7953 - val_loss: 0.5040 - val_accuracy: 0.7698\n",
            "Epoch 22/50\n",
            "56/56 [==============================] - 2s 29ms/step - loss: 0.4396 - accuracy: 0.7826 - val_loss: 0.5074 - val_accuracy: 0.7770\n",
            "Epoch 23/50\n",
            "56/56 [==============================] - 2s 28ms/step - loss: 0.4473 - accuracy: 0.7862 - val_loss: 0.5054 - val_accuracy: 0.7770\n",
            "Epoch 24/50\n",
            "56/56 [==============================] - 2s 31ms/step - loss: 0.4377 - accuracy: 0.7953 - val_loss: 0.5097 - val_accuracy: 0.7770\n",
            "Epoch 25/50\n",
            "56/56 [==============================] - 2s 30ms/step - loss: 0.4292 - accuracy: 0.7790 - val_loss: 0.5086 - val_accuracy: 0.7698\n",
            "Epoch 26/50\n",
            "56/56 [==============================] - 2s 28ms/step - loss: 0.4290 - accuracy: 0.7880 - val_loss: 0.5158 - val_accuracy: 0.7842\n",
            "Epoch 27/50\n",
            "56/56 [==============================] - 2s 29ms/step - loss: 0.4362 - accuracy: 0.7899 - val_loss: 0.5133 - val_accuracy: 0.7842\n",
            "Epoch 28/50\n",
            "56/56 [==============================] - 2s 29ms/step - loss: 0.4395 - accuracy: 0.7971 - val_loss: 0.5134 - val_accuracy: 0.7842\n",
            "Epoch 29/50\n",
            "56/56 [==============================] - 2s 31ms/step - loss: 0.4218 - accuracy: 0.7935 - val_loss: 0.5127 - val_accuracy: 0.7770\n",
            "Epoch 30/50\n",
            "56/56 [==============================] - 2s 31ms/step - loss: 0.4279 - accuracy: 0.7880 - val_loss: 0.5164 - val_accuracy: 0.7770\n",
            "Epoch 31/50\n",
            "56/56 [==============================] - 2s 31ms/step - loss: 0.4248 - accuracy: 0.7826 - val_loss: 0.5172 - val_accuracy: 0.7698\n",
            "Epoch 32/50\n",
            "56/56 [==============================] - 2s 31ms/step - loss: 0.4124 - accuracy: 0.7953 - val_loss: 0.5242 - val_accuracy: 0.7770\n",
            "Epoch 33/50\n",
            "56/56 [==============================] - 2s 31ms/step - loss: 0.4238 - accuracy: 0.7880 - val_loss: 0.5236 - val_accuracy: 0.7698\n",
            "Epoch 34/50\n",
            "56/56 [==============================] - 2s 31ms/step - loss: 0.4053 - accuracy: 0.8098 - val_loss: 0.5281 - val_accuracy: 0.7842\n",
            "Epoch 35/50\n",
            "56/56 [==============================] - 2s 31ms/step - loss: 0.4206 - accuracy: 0.7989 - val_loss: 0.5252 - val_accuracy: 0.7626\n",
            "Epoch 36/50\n",
            "56/56 [==============================] - 2s 31ms/step - loss: 0.4142 - accuracy: 0.8098 - val_loss: 0.5297 - val_accuracy: 0.7698\n",
            "Epoch 37/50\n",
            "56/56 [==============================] - 2s 31ms/step - loss: 0.4125 - accuracy: 0.8025 - val_loss: 0.5370 - val_accuracy: 0.7914\n",
            "Epoch 38/50\n",
            "56/56 [==============================] - 2s 31ms/step - loss: 0.4119 - accuracy: 0.8043 - val_loss: 0.5327 - val_accuracy: 0.7554\n",
            "Epoch 39/50\n",
            "56/56 [==============================] - 2s 29ms/step - loss: 0.4111 - accuracy: 0.8062 - val_loss: 0.5303 - val_accuracy: 0.7770\n",
            "Epoch 40/50\n",
            "56/56 [==============================] - 2s 30ms/step - loss: 0.4111 - accuracy: 0.8007 - val_loss: 0.5356 - val_accuracy: 0.7842\n",
            "Epoch 41/50\n",
            "56/56 [==============================] - 2s 32ms/step - loss: 0.4085 - accuracy: 0.8062 - val_loss: 0.5363 - val_accuracy: 0.7770\n",
            "Epoch 42/50\n",
            "56/56 [==============================] - 2s 31ms/step - loss: 0.4172 - accuracy: 0.7953 - val_loss: 0.5360 - val_accuracy: 0.7770\n",
            "Epoch 43/50\n",
            "56/56 [==============================] - 1s 26ms/step - loss: 0.4098 - accuracy: 0.8025 - val_loss: 0.5369 - val_accuracy: 0.7770\n",
            "Epoch 44/50\n",
            "56/56 [==============================] - 1s 26ms/step - loss: 0.4099 - accuracy: 0.8043 - val_loss: 0.5367 - val_accuracy: 0.7698\n",
            "Epoch 45/50\n",
            "56/56 [==============================] - 2s 30ms/step - loss: 0.3959 - accuracy: 0.8025 - val_loss: 0.5387 - val_accuracy: 0.7554\n",
            "Epoch 46/50\n",
            "56/56 [==============================] - 2s 31ms/step - loss: 0.4058 - accuracy: 0.8116 - val_loss: 0.5443 - val_accuracy: 0.7698\n",
            "Epoch 47/50\n",
            "56/56 [==============================] - 3s 46ms/step - loss: 0.4066 - accuracy: 0.8170 - val_loss: 0.5632 - val_accuracy: 0.7842\n",
            "Epoch 48/50\n",
            "56/56 [==============================] - 2s 30ms/step - loss: 0.3967 - accuracy: 0.7971 - val_loss: 0.5526 - val_accuracy: 0.7698\n",
            "Epoch 49/50\n",
            "56/56 [==============================] - 2s 31ms/step - loss: 0.4069 - accuracy: 0.8043 - val_loss: 0.5609 - val_accuracy: 0.7842\n",
            "Epoch 50/50\n",
            "56/56 [==============================] - 2s 31ms/step - loss: 0.3955 - accuracy: 0.8170 - val_loss: 0.5677 - val_accuracy: 0.7770\n"
          ]
        }
      ]
    },
    {
      "cell_type": "code",
      "metadata": {
        "colab": {
          "base_uri": "https://localhost:8080/"
        },
        "id": "x2LdTeAcbFeN",
        "outputId": "c703ff7f-6f82-48b0-9fe9-4ce061472cf4"
      },
      "source": [
        "score = model.evaluate(x_test,y_test,verbose = 1)\n",
        "score[1]"
      ],
      "execution_count": null,
      "outputs": [
        {
          "output_type": "stream",
          "name": "stdout",
          "text": [
            "3/3 [==============================] - 0s 9ms/step - loss: 0.5311 - accuracy: 0.8312\n"
          ]
        },
        {
          "output_type": "execute_result",
          "data": {
            "text/plain": [
              "0.8311688303947449"
            ]
          },
          "metadata": {},
          "execution_count": 46
        }
      ]
    },
    {
      "cell_type": "code",
      "metadata": {
        "colab": {
          "base_uri": "https://localhost:8080/",
          "height": 356
        },
        "id": "UptZCMhALIPz",
        "outputId": "e0894943-3925-4939-e0d3-ac47a5f3d52e"
      },
      "source": [
        "my_dpi = 50 # dots per inch .. (resolution)\n",
        "plt.figure(figsize=(400/my_dpi, 400/my_dpi), dpi = my_dpi)\n",
        "plt.plot(Performance1.history['accuracy'], label='train accuracy')\n",
        "plt.plot(Performance1.history['val_accuracy'], label='val accuracy')\n",
        "plt.legend()\n",
        "plt.show()\n",
        "plt.savefig('AccVal_acc')\n"
      ],
      "execution_count": null,
      "outputs": [
        {
          "output_type": "display_data",
          "data": {
            "text/plain": [
              "<Figure size 400x400 with 1 Axes>"
            ],
            "image/png": "[encoded data removed]"
          },
          "metadata": {
            "needs_background": "light"
          }
        },
        {
          "output_type": "display_data",
          "data": {
            "text/plain": [
              "<Figure size 432x288 with 0 Axes>"
            ]
          },
          "metadata": {}
        }
      ]
    },
    {
      "cell_type": "code",
      "metadata": {
        "colab": {
          "base_uri": "https://localhost:8080/",
          "height": 285
        },
        "id": "v1ysEJLXLISI",
        "outputId": "5e8aa98d-757f-45fe-cdb7-2416dfb2d6de"
      },
      "source": [
        "from sklearn.metrics import accuracy_score, f1_score,confusion_matrix\n",
        "y_pred_ann=model.predict(x_test)\n",
        "y_pred_ann=(y_pred_ann>0.5)\n",
        "acc_ann=accuracy_score(y_test,y_pred_ann)\n",
        "\n",
        "f1_score_ann=f1_score(y_test,y_pred_ann)\n",
        "plt.figure(figsize=(3,3))\n",
        "crr_NN=confusion_matrix(y_test,y_pred_ann)\n",
        "sns.heatmap(crr_NN,annot=True)\n",
        "plt.plot()\n",
        "print(\"\\nAccuracy Score: %{:.2f} \\nF1 Score: %{:.2f}\\n\".format(acc_ann*100,f1_score_ann*100))"
      ],
      "execution_count": null,
      "outputs": [
        {
          "output_type": "stream",
          "name": "stdout",
          "text": [
            "\n",
            "Accuracy Score: %83.12 \n",
            "F1 Score: %74.51\n",
            "\n"
          ]
        },
        {
          "output_type": "display_data",
          "data": {
            "text/plain": [
              "<Figure size 216x216 with 2 Axes>"
            ],
            "image/png": "[encoded data removed]"
          },
          "metadata": {
            "needs_background": "light"
          }
        }
      ]
    },
    {
      "cell_type": "code",
      "metadata": {
        "colab": {
          "base_uri": "https://localhost:8080/",
          "height": 295
        },
        "id": "V_pZKvjOLIUw",
        "outputId": "0d9f98aa-ec51-4292-fb1b-f21fa7594218"
      },
      "source": [
        "import matplotlib.pyplot as plt                             ###plot loss on train and val data\n",
        "plt.plot(Performance1.history['loss'])\n",
        "plt.plot(Performance1.history['val_loss'])\n",
        "plt.title('Model Loss Plot')\n",
        "plt.xlabel('Epochs')\n",
        "plt.ylabel('Loss')\n",
        "plt.legend(['Train', 'Test'],loc = 'upper right')\n",
        "plt.show()"
      ],
      "execution_count": null,
      "outputs": [
        {
          "output_type": "display_data",
          "data": {
            "text/plain": [
              "<Figure size 432x288 with 1 Axes>"
            ],
            "image/png": "[encoded data removed]"
          },
          "metadata": {
            "needs_background": "light"
          }
        }
      ]
    },
    {
      "cell_type": "code",
      "metadata": {
        "id": "J_3nsgCiLIYB"
      },
      "source": [
        "from sklearn.metrics import precision_score, recall_score, f1_score, confusion_matrix, roc_curve, roc_auc_score\n",
        "import matplotlib.pyplot as plt"
      ],
      "execution_count": null,
      "outputs": []
    },
    {
      "cell_type": "code",
      "metadata": {
        "id": "kiA_cM1dLIZ_"
      },
      "source": [
        "Y_pred = model.predict(x_test)\n",
        "Y_pred = (Y_pred >0.5)"
      ],
      "execution_count": null,
      "outputs": []
    },
    {
      "cell_type": "code",
      "metadata": {
        "colab": {
          "base_uri": "https://localhost:8080/"
        },
        "id": "1tp38NYmLIb4",
        "outputId": "b03ecd39-f014-4f36-c950-0b657d0caaaf"
      },
      "source": [
        "confusion = confusion_matrix(y_test,Y_pred)        ###Model evaluation\n",
        "precision = precision_score(y_test,Y_pred)\n",
        "recall = recall_score(y_test,Y_pred)\n",
        "F1 = f1_score(y_test,Y_pred)\n",
        "specificity = (confusion[0][0]/(confusion[0][0]+confusion[0][1]))\n",
        "print('confusion matrix {}'.format(confusion))\n",
        "print('precision is {}'.format(precision))\n",
        "print('recall is  {}'.format(recall))\n",
        "print('F1 score {}'.format(F1))\n",
        "print('specificity is {}'.format(specificity))"
      ],
      "execution_count": null,
      "outputs": [
        {
          "output_type": "stream",
          "name": "stdout",
          "text": [
            "confusion matrix [[45  6]\n",
            " [ 7 19]]\n",
            "precision is 0.76\n",
            "recall is  0.7307692307692307\n",
            "F1 score 0.7450980392156863\n",
            "specificity is 0.8823529411764706\n"
          ]
        }
      ]
    },
    {
      "cell_type": "code",
      "metadata": {
        "colab": {
          "base_uri": "https://localhost:8080/",
          "height": 264
        },
        "id": "jjIM1SclLIeJ",
        "outputId": "d86b9455-1b2b-4b68-b7e2-6720b9b80e69"
      },
      "source": [
        "Y_pred_proba = model.predict(x_test)\n",
        "fpr, tpr, _ = roc_curve(y_test, Y_pred_proba)\n",
        "auc = roc_auc_score(y_test, Y_pred_proba)\n",
        "plt.plot(fpr,tpr,label=\"data 1, auc=\"+str(auc))\n",
        "plt.legend(loc=4)\n",
        "plt.show()"
      ],
      "execution_count": null,
      "outputs": [
        {
          "data": {
            "image/png": "[encoded data removed]",
            "text/plain": [
              "<Figure size 432x288 with 1 Axes>"
            ]
          },
          "metadata": {
            "tags": []
          },
          "output_type": "display_data"
        }
      ]
    },
    {
      "cell_type": "code",
      "metadata": {
        "colab": {
          "base_uri": "https://localhost:8080/"
        },
        "id": "dDb--6mZ8lLQ",
        "outputId": "c07b4d99-e508-495b-89b3-b3c54ff22562"
      },
      "source": [
        "from sklearn.model_selection import KFold\n",
        "from sklearn.metrics import roc_curve\n",
        "from sklearn.metrics import auc\n",
        "kf = KFold(n_splits=10, shuffle=True, random_state=42069)\n",
        "preds = []\n",
        "fold = 0\n",
        "aucs = 0\n",
        "for train_idx, val_idx in kf.split(x_train):\n",
        "    x_train_f = x_train[train_idx]\n",
        "    y_train_f = y_train[train_idx]\n",
        "    x_val_f = x_train[val_idx]\n",
        "    y_val_f = y_train[val_idx]\n",
        "    model.fit(x_train_f, y_train_f,\n",
        "              batch_size=256,\n",
        "              epochs=10,\n",
        "              verbose = 0,\n",
        "              validation_data=(x_val_f, y_val_f))\n",
        "    # Get accuracy of model on validation data. It's not AUC but it's something at least!\n",
        "    preds_val = model.predict([x_val_f], batch_size=256)\n",
        "    preds.append(model.predict(x_test))\n",
        "    fold = fold + 1\n",
        "    fpr, tpr, thresholds = roc_curve(y_val_f, preds_val, pos_label=0)\n",
        "    aucs = aucs + auc(fpr, tpr)\n",
        "    fpr, tpr, thresholds = roc_curve(y_val_f, preds_val, pos_label=1)\n",
        "    aucs += auc(fpr,tpr)\n",
        "    print('Fold {}, AUC = {}'.format(fold,auc(fpr, tpr)))\n",
        "print(\"Cross Validation AUC = {}\".format(aucs/10))   "
      ],
      "execution_count": null,
      "outputs": [
        {
          "name": "stdout",
          "output_type": "stream",
          "text": [
            "Fold 1, AUC = 0.6275510204081632\n",
            "Fold 2, AUC = 0.6663442940038685\n",
            "Fold 3, AUC = 0.7040618955512572\n",
            "Fold 4, AUC = 0.832688588007737\n",
            "Fold 5, AUC = 0.8458188153310104\n",
            "Fold 6, AUC = 0.7425044091710757\n",
            "Fold 7, AUC = 0.686411149825784\n",
            "Fold 8, AUC = 0.6795634920634921\n",
            "Fold 9, AUC = 0.7456479690522244\n",
            "Fold 10, AUC = 0.7514506769825918\n",
            "Cross Validation AUC = 1.0\n"
          ]
        }
      ]
    },
    {
      "cell_type": "code",
      "metadata": {
        "id": "4K1aggSG1q-W"
      },
      "source": [
        "#Importing the libraries\n",
        "import numpy as np\n",
        "import matplotlib.pyplot as plt\n",
        "import pandas as pd\n",
        "from sklearn.tree import DecisionTreeClassifier\n",
        "from sklearn.linear_model import LogisticRegression\n",
        "from sklearn.svm import SVC\n",
        "from sklearn.neighbors import KNeighborsClassifier\n",
        "from sklearn.naive_bayes import GaussianNB\n",
        "from sklearn.ensemble import VotingClassifier\n",
        "from sklearn import model_selection\n",
        "from sklearn.metrics import confusion_matrix\n",
        "from sklearn. preprocessing import StandardScaler\n",
        "from sklearn.model_selection import train_test_split\n",
        "from sklearn.metrics import precision_score, recall_score, f1_score, confusion_matrix, roc_curve, roc_auc_score\n"
      ],
      "execution_count": null,
      "outputs": []
    },
    {
      "cell_type": "code",
      "metadata": {
        "colab": {
          "base_uri": "https://localhost:8080/"
        },
        "id": "PMVgDtKf99Eg",
        "outputId": "d1af1b57-2251-4c56-f65f-b170846b5f73"
      },
      "source": [
        "estimators = []\n",
        "model11 = LogisticRegression(penalty = 'l2', random_state = 0)\n",
        "estimators.append(('logistic1', model11))\n",
        "model12 = LogisticRegression(penalty = 'l2', random_state = 0)\n",
        "estimators.append(('logistic2', model12))\n",
        "model15 = LogisticRegression(penalty = 'l2', random_state = 0)\n",
        "estimators.append(('logistic5', model15))\n",
        "#Defining 5 Decision Tree Classifiers\n",
        "model16 = DecisionTreeClassifier(max_depth = 2)\n",
        "estimators.append(('cart1', model16))\n",
        "model17 = DecisionTreeClassifier(max_depth = 2)\n",
        "estimators.append(('cart2', model17))\n",
        "model19 = DecisionTreeClassifier(max_depth = 4)\n",
        "estimators.append(('cart4', model19))\n",
        "#Defining 5 Support Vector Classifiers\n",
        "model22 = SVC(kernel = 'poly', degree = 3)\n",
        "estimators.append(('svm2', model22))\n",
        "model23 = SVC(kernel = 'rbf')\n",
        "estimators.append(('svm3', model23))\n",
        "model24 = SVC(kernel = 'rbf')\n",
        "estimators.append(('svm4', model24))\n",
        "#Defining 5 K-NN classifiers\n",
        "model26 = KNeighborsClassifier(n_neighbors = 4, metric = 'minkowski', p = 2)\n",
        "estimators.append(('knn1', model26))\n",
        "model27 = KNeighborsClassifier(n_neighbors = 3, metric = 'minkowski', p = 2)\n",
        "estimators.append(('knn2', model27))\n",
        "model29 = KNeighborsClassifier(n_neighbors = 1, metric = 'minkowski', p = 1)\n",
        "estimators.append(('knn4', model29))\n",
        "model30 = KNeighborsClassifier(n_neighbors = 4, metric = 'minkowski', p = 1)\n",
        "estimators.append(('knn5', model30))\n",
        "\n",
        "#Defining 5 Naive Bayes classifiers\n",
        "model31 = GaussianNB()\n",
        "estimators.append(('nbs1', model31))\n",
        "model32 = GaussianNB()\n",
        "estimators.append(('nbs2', model32))\n",
        "model34 = GaussianNB()\n",
        "estimators.append(('nbs4', model34))\n",
        "model35 = GaussianNB()\n",
        "estimators.append(('nbs5', model35))\n",
        "\n",
        "# Defining the ensemble model\n",
        "ensemble = VotingClassifier(estimators)\n",
        "ensemble.fit(x_train, y_train)\n",
        "y_pred = ensemble.predict(x_test)\n",
        "\n",
        "#Confisuin matrix\n",
        "cm_HybridEnsembler = confusion_matrix(y_test, y_pred)\n",
        "cm_HybridEnsembler"
      ],
      "execution_count": null,
      "outputs": [
        {
          "output_type": "stream",
          "name": "stderr",
          "text": [
            "/usr/local/lib/python3.7/dist-packages/sklearn/preprocessing/_label.py:235: DataConversionWarning: A column-vector y was passed when a 1d array was expected. Please change the shape of y to (n_samples, ), for example using ravel().\n",
            "  y = column_or_1d(y, warn=True)\n",
            "/usr/local/lib/python3.7/dist-packages/sklearn/preprocessing/_label.py:268: DataConversionWarning: A column-vector y was passed when a 1d array was expected. Please change the shape of y to (n_samples, ), for example using ravel().\n",
            "  y = column_or_1d(y, warn=True)\n"
          ]
        },
        {
          "output_type": "execute_result",
          "data": {
            "text/plain": [
              "array([[46,  5],\n",
              "       [ 9, 17]])"
            ]
          },
          "metadata": {},
          "execution_count": 64
        }
      ]
    },
    {
      "cell_type": "code",
      "metadata": {
        "colab": {
          "base_uri": "https://localhost:8080/"
        },
        "id": "iz4_7i3eCbSr",
        "outputId": "676048e9-1a8c-454a-aebc-3309a7b1a551"
      },
      "source": [
        "y_pred = ensemble.predict(x_test)\n",
        "from sklearn.metrics import confusion_matrix\n",
        "cm = confusion_matrix(y_test, y_pred)\n",
        "print(\"\\nconfusion_matrix\\n\", cm)\n",
        "acc = round(ensemble.score(x_train, y_train) * 100, 2)\n",
        "print(\"\\nTraining accuracy\\n\", acc)\n",
        "from sklearn.metrics import accuracy_score\n",
        "print(\"\\nTesting accuracy\\n\", accuracy_score(y_test, y_pred))"
      ],
      "execution_count": null,
      "outputs": [
        {
          "output_type": "stream",
          "name": "stdout",
          "text": [
            "\n",
            "confusion_matrix\n",
            " [[46  5]\n",
            " [ 9 17]]\n",
            "\n",
            "Training accuracy\n",
            " 79.88\n",
            "\n",
            "Testing accuracy\n",
            " 0.8181818181818182\n"
          ]
        }
      ]
    },
    {
      "cell_type": "code",
      "metadata": {
        "id": "EIUZHpncCbfx"
      },
      "source": [
        "Y_pred = ensemble.predict(x_test)\n",
        "Y_pred = (y_pred >0.5)"
      ],
      "execution_count": null,
      "outputs": []
    },
    {
      "cell_type": "code",
      "metadata": {
        "colab": {
          "base_uri": "https://localhost:8080/"
        },
        "id": "TIwdH7fBZ_el",
        "outputId": "af7291d8-0208-4598-b0e4-88a86951ed7d"
      },
      "source": [
        "confusion = confusion_matrix(y_test,Y_pred)        ###Model evaluation\n",
        "precision = precision_score(y_test,Y_pred)\n",
        "recall = recall_score(y_test,Y_pred)\n",
        "F1 = f1_score(y_test,Y_pred)\n",
        "specificity = (confusion[0][0]/(confusion[0][0]+confusion[0][1]))\n",
        "print('confusion matrix {}'.format(confusion))\n",
        "print('precision is {}'.format(precision))\n",
        "print('recall is  {}'.format(recall))\n",
        "print('F1 score {}'.format(F1))\n",
        "print('specificity is {}'.format(specificity))"
      ],
      "execution_count": null,
      "outputs": [
        {
          "output_type": "stream",
          "name": "stdout",
          "text": [
            "confusion matrix [[46  5]\n",
            " [ 9 17]]\n",
            "precision is 0.7727272727272727\n",
            "recall is  0.6538461538461539\n",
            "F1 score 0.7083333333333333\n",
            "specificity is 0.9019607843137255\n"
          ]
        }
      ]
    },
    {
      "cell_type": "code",
      "metadata": {
        "colab": {
          "base_uri": "https://localhost:8080/",
          "height": 265
        },
        "id": "qeGdIzh_aNuK",
        "outputId": "d1f4a5a6-c754-413c-bd25-09c97be9fd2b"
      },
      "source": [
        "Y_pred_proba = ensemble.predict(x_test)\n",
        "fpr, tpr, _ = roc_curve(y_test, Y_pred_proba)\n",
        "auc = roc_auc_score(y_test, Y_pred_proba)\n",
        "plt.plot(fpr,tpr,label=\"data 1, auc=\"+str(auc))\n",
        "plt.legend(loc=4)\n",
        "plt.show()"
      ],
      "execution_count": null,
      "outputs": [
        {
          "output_type": "display_data",
          "data": {
            "image/png": "[encoded data removed]",
            "text/plain": [
              "<Figure size 432x288 with 1 Axes>"
            ]
          },
          "metadata": {
            "needs_background": "light"
          }
        }
      ]
    },
    {
      "cell_type": "code",
      "metadata": {
        "id": "H5i2lB8fafOL"
      },
      "source": [
        ""
      ],
      "execution_count": null,
      "outputs": []
    }
  ]
}